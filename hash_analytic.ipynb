{
  "nbformat": 4,
  "nbformat_minor": 0,
  "metadata": {
    "colab": {
      "name": "hash_analytic.ipynb",
      "provenance": [],
      "collapsed_sections": [],
      "authorship_tag": "ABX9TyPY7cL3qW9IAsgsTizbg9FX",
      "include_colab_link": true
    },
    "kernelspec": {
      "name": "python3",
      "display_name": "Python 3"
    }
  },
  "cells": [
    {
      "cell_type": "markdown",
      "metadata": {
        "id": "view-in-github",
        "colab_type": "text"
      },
      "source": [
        "<a href=\"https://colab.research.google.com/github/Oluwatobi09/python-class/blob/master/hash_analytic.ipynb\" target=\"_parent\"><img src=\"https://colab.research.google.com/assets/colab-badge.svg\" alt=\"Open In Colab\"/></a>"
      ]
    },
    {
      "cell_type": "code",
      "metadata": {
        "id": "oZpbujqywQ6j",
        "colab_type": "code",
        "colab": {}
      },
      "source": [
        "import numpy as np\n",
        "import pandas as pd\n",
        "import matplotlib as plt\n",
        "from pandas import Series , DataFrame"
      ],
      "execution_count": 34,
      "outputs": []
    },
    {
      "cell_type": "markdown",
      "metadata": {
        "id": "XZRLsPzY9Xq5",
        "colab_type": "text"
      },
      "source": [
        "##**NUMPY**"
      ]
    },
    {
      "cell_type": "code",
      "metadata": {
        "id": "4o0duxuiuLPo",
        "colab_type": "code",
        "colab": {
          "base_uri": "https://localhost:8080/",
          "height": 90
        },
        "outputId": "d7870eff-5511-419e-d4c5-1a064ba81b6f"
      },
      "source": [
        "# convention for importing numpy\n",
        "import numpy as np\n",
        "#creating arrays from a list\n",
        "arr = [6, 7, 8, 9]\n",
        "print(type(arr)) # prints <class 'list'>\n",
        "\n",
        "a = np.array(arr)\n",
        "print(type(a))  # prints <class 'numpy.ndarray'>\n",
        "print(a.shape)  # prints (4,) - a is a 1d array with 4 items\n",
        "print(a.dtype)  # prints int64"
      ],
      "execution_count": 35,
      "outputs": [
        {
          "output_type": "stream",
          "text": [
            "<class 'list'>\n",
            "<class 'numpy.ndarray'>\n",
            "(4,)\n",
            "int64\n"
          ],
          "name": "stdout"
        }
      ]
    },
    {
      "cell_type": "code",
      "metadata": {
        "id": "K_EbFNWK-p9r",
        "colab_type": "code",
        "colab": {
          "base_uri": "https://localhost:8080/",
          "height": 90
        },
        "outputId": "da59b0e1-2450-40ff-d0c7-9cb109c9aedd"
      },
      "source": [
        "#creating arrays from two lists\n",
        "my_list1 = [1,2,3,4]\n",
        "my_list2 = [5,6,7,8]\n",
        "my_array = np.array([my_list1,my_list2])\n",
        "print(my_array) #prints the 2d array\n",
        "print(my_array.dtype)  #prints int64\n",
        "print(my_array.shape) #prints the array shape (2, 4) "
      ],
      "execution_count": 36,
      "outputs": [
        {
          "output_type": "stream",
          "text": [
            "[[1 2 3 4]\n",
            " [5 6 7 8]]\n",
            "int64\n",
            "(2, 4)\n"
          ],
          "name": "stdout"
        }
      ]
    },
    {
      "cell_type": "code",
      "metadata": {
        "id": "dppjnhvH35KS",
        "colab_type": "code",
        "colab": {
          "base_uri": "https://localhost:8080/",
          "height": 235
        },
        "outputId": "d20e555a-e86a-4ee9-c10a-d612c6f2b076"
      },
      "source": [
        "print(np.ones((2, 3))) # prints a 2x3 array of ones\n",
        "print(np.zeros((2, 3))) # prints a 2x3 array of zeroes\n",
        "print(np.zeros(5) ) # prints a 1x5 array of zeroes\n",
        "print(np.identity(3)) # prints a 3x3 identity matrix \n",
        "print(np.eye(3)) #prints an identity matrix to the degree indicated\n",
        "print(np.arange(5,50,4)) #prints a set of numbers between 5 and 50 skipping 4 everytime"
      ],
      "execution_count": 37,
      "outputs": [
        {
          "output_type": "stream",
          "text": [
            "[[1. 1. 1.]\n",
            " [1. 1. 1.]]\n",
            "[[0. 0. 0.]\n",
            " [0. 0. 0.]]\n",
            "[0. 0. 0. 0. 0.]\n",
            "[[1. 0. 0.]\n",
            " [0. 1. 0.]\n",
            " [0. 0. 1.]]\n",
            "[[1. 0. 0.]\n",
            " [0. 1. 0.]\n",
            " [0. 0. 1.]]\n",
            "[ 5  9 13 17 21 25 29 33 37 41 45 49]\n"
          ],
          "name": "stdout"
        }
      ]
    },
    {
      "cell_type": "code",
      "metadata": {
        "id": "9kwcQZm58DHi",
        "colab_type": "code",
        "colab": {}
      },
      "source": [
        "my_array2 = np.array([[9.0, 8.0, 7.0], [1.0, 2.0, 3.0]])\n",
        "my_array3 = np.array([[4.0, 5.0, 6.0], [9.0, 8.0, 7.0]])\n",
        "\n",
        "my_array4 = np.array([[10, 11, 12],[13, 14, 15], \n",
        "              [16, 17, 18],[19, 20, 21]])"
      ],
      "execution_count": 38,
      "outputs": []
    },
    {
      "cell_type": "markdown",
      "metadata": {
        "id": "hDaeXJsTE3zg",
        "colab_type": "text"
      },
      "source": [
        "scalar Operations on Array\n"
      ]
    },
    {
      "cell_type": "code",
      "metadata": {
        "id": "ivurOLKzDteH",
        "colab_type": "code",
        "colab": {
          "base_uri": "https://localhost:8080/",
          "height": 235
        },
        "outputId": "c5c9bd63-23ba-43fb-9151-c3238cfe3399"
      },
      "source": [
        "print(my_array2 * my_array2) #prints the product of my_array and my_array2\n",
        "print(my_array3 + my_array2) #prints the sum of my_array3 and my_array2\n",
        "print(my_array2 - my_array3) #prints the difference between my_array2 and my_array3              \n",
        "print(my_array4 ** 3) #prints the the value of my_array 4 exponential 3\n",
        "print(1 / my_array ) #prints the recripocal of my_array"
      ],
      "execution_count": 39,
      "outputs": [
        {
          "output_type": "stream",
          "text": [
            "[[81. 64. 49.]\n",
            " [ 1.  4.  9.]]\n",
            "[[13. 13. 13.]\n",
            " [10. 10. 10.]]\n",
            "[[ 5.  3.  1.]\n",
            " [-8. -6. -4.]]\n",
            "[[1000 1331 1728]\n",
            " [2197 2744 3375]\n",
            " [4096 4913 5832]\n",
            " [6859 8000 9261]]\n",
            "[[1.         0.5        0.33333333 0.25      ]\n",
            " [0.2        0.16666667 0.14285714 0.125     ]]\n"
          ],
          "name": "stdout"
        }
      ]
    },
    {
      "cell_type": "markdown",
      "metadata": {
        "id": "UzLPywHZHjOP",
        "colab_type": "text"
      },
      "source": [
        "Array indexing\n",
        "\n",
        "\n",
        "1.   1 dimensional array\n",
        "2.   2 dimensional array\n",
        "\n"
      ]
    },
    {
      "cell_type": "code",
      "metadata": {
        "id": "IxiU-WQ-6ZCW",
        "colab_type": "code",
        "colab": {
          "base_uri": "https://localhost:8080/",
          "height": 254
        },
        "outputId": "1043aab1-a420-4d38-808c-349abae5ff70"
      },
      "source": [
        "''' 1 dimensional array'''\n",
        "my_array5 = np.arange(2,20,2)\n",
        "print(my_array5[5]) #prints the object with index 5 in the list\n",
        "\n",
        "# the items within a list can can be edited by assigning values\n",
        "my_array5[2:6] = 12\n",
        "print (my_array5) #prints my_array5 with the 12 from index 2 to 5\n",
        "my_array5[:] = 15 \n",
        "print (my_array5) #prints all the values in the array as 15\n",
        "\n",
        "#creating a copy of an array\n",
        "my_array5copy = my_array5.copy()\n",
        "\n",
        "''' 2 dimensional array'''\n",
        "#the first object in the set represents the row and the second the column\n",
        "print(my_array4[0]) #prints the first row in the row with index zero\n",
        "\n",
        "#the elements in the rows can be accessed also \n",
        "print(my_array4[1][2]) #prints the element in the row index 1 and column index 2\n",
        "\n",
        "#Elements in arrays  can also be retrieved by slicing rows and columns or a combination of indexing and slicing.\n",
        "print(my_array3[1,  0:2]) #prints the elements in row index 1 and column index 0 to 2\n",
        "\n",
        "# slicing\n",
        "print(my_array4[:3, 1:] ) #prints the elements from row index up to 3 and column index from 1 to end\n",
        "\n",
        "# the items within a list can can be edited by assigning values\n",
        "my_array4[:2, 1:]  = 12\n",
        "print (my_array4) #prints my_array4 with the 12 from row index up to 2 and column index from 1 to end\n",
        "\n"
      ],
      "execution_count": 40,
      "outputs": [
        {
          "output_type": "stream",
          "text": [
            "12\n",
            "[ 2  4 12 12 12 12 14 16 18]\n",
            "[15 15 15 15 15 15 15 15 15]\n",
            "[10 11 12]\n",
            "15\n",
            "[9. 8.]\n",
            "[[11 12]\n",
            " [14 15]\n",
            " [17 18]]\n",
            "[[10 12 12]\n",
            " [13 12 12]\n",
            " [16 17 18]\n",
            " [19 20 21]]\n"
          ],
          "name": "stdout"
        }
      ]
    },
    {
      "cell_type": "code",
      "metadata": {
        "id": "91g2XhhNYDtb",
        "colab_type": "code",
        "colab": {
          "base_uri": "https://localhost:8080/",
          "height": 108
        },
        "outputId": "84c39821-ea6c-4176-cd96-28c8a97f47f3"
      },
      "source": [
        "#using loops to index\n",
        "arr_len = my_array4.shape[1] #shape returns (rows,columns)\n",
        "print(arr_len) #prints the number of columns in my_array4\n",
        "for i in range(arr_len):\n",
        "  my_array4[i] = i\n",
        "print (my_array4) #prints the sequence of values until the loop is satisfied"
      ],
      "execution_count": 41,
      "outputs": [
        {
          "output_type": "stream",
          "text": [
            "3\n",
            "[[ 0  0  0]\n",
            " [ 1  1  1]\n",
            " [ 2  2  2]\n",
            " [19 20 21]]\n"
          ],
          "name": "stdout"
        }
      ]
    },
    {
      "cell_type": "code",
      "metadata": {
        "id": "5hT7c9AzbHGR",
        "colab_type": "code",
        "colab": {
          "base_uri": "https://localhost:8080/",
          "height": 90
        },
        "outputId": "e0da7e09-ab54-45a3-9c3b-8131d62e97a1"
      },
      "source": [
        "#other ways of accessing rows, the double square brackets indicate only rows\n",
        "print(my_array4[[0,1]]) #prints all element on row index 0 and 1, zero first of the array\n",
        "print(my_array4[[1,0]]) #prints all element on row index 0 and 1, one first  of the array"
      ],
      "execution_count": 42,
      "outputs": [
        {
          "output_type": "stream",
          "text": [
            "[[0 0 0]\n",
            " [1 1 1]]\n",
            "[[1 1 1]\n",
            " [0 0 0]]\n"
          ],
          "name": "stdout"
        }
      ]
    },
    {
      "cell_type": "code",
      "metadata": {
        "id": "hAkt9MXgfY4I",
        "colab_type": "code",
        "colab": {
          "base_uri": "https://localhost:8080/",
          "height": 163
        },
        "outputId": "7b73ee11-171e-4cb8-9121-63bfb94fa805"
      },
      "source": [
        "#universal array functions\n",
        "a = np.arange(1,15,2)\n",
        "b = np.arange(2,16,2)\n",
        "print(a) # prints an array of numbers within  the range \n",
        "print(b) # prints an array of numbers within  the range \n",
        "print(np.sqrt(a)) #sqrt prints the squareroot of a\n",
        "print(np.exp(a)) #exp prints the exponential of a \n",
        "print(np.add(a,b)) #add adds the values of a and b\n",
        "print(np.maximum(a,b)) #maximum prints the maximum between a and b\n",
        "#additional resources on scipy.org"
      ],
      "execution_count": 43,
      "outputs": [
        {
          "output_type": "stream",
          "text": [
            "[ 1  3  5  7  9 11 13]\n",
            "[ 2  4  6  8 10 12 14]\n",
            "[1.         1.73205081 2.23606798 2.64575131 3.         3.31662479\n",
            " 3.60555128]\n",
            "[2.71828183e+00 2.00855369e+01 1.48413159e+02 1.09663316e+03\n",
            " 8.10308393e+03 5.98741417e+04 4.42413392e+05]\n",
            "[ 3  7 11 15 19 23 27]\n",
            "[ 2  4  6  8 10 12 14]\n"
          ],
          "name": "stdout"
        }
      ]
    },
    {
      "cell_type": "code",
      "metadata": {
        "id": "sBIKZBU9nB8E",
        "colab_type": "code",
        "colab": {}
      },
      "source": [
        "#loading and saving arrays"
      ],
      "execution_count": 44,
      "outputs": []
    },
    {
      "cell_type": "code",
      "metadata": {
        "id": "t5FCbC_9nFzq",
        "colab_type": "code",
        "colab": {
          "base_uri": "https://localhost:8080/",
          "height": 678
        },
        "outputId": "8f8ec1e0-fac4-4c8e-c81c-94d4b1bb002a"
      },
      "source": [
        "#statistical and mathematical processing of arrays\n",
        "import matplotlib.pyplot as plt\n",
        "axes_values = np.arange(2,50,5)\n",
        "dx, dy = np.meshgrid(axes_values,axes_values)\n",
        "print(dx)\n",
        "function = 2*dx+3*dy\n",
        "function2 =  np.cos(dx)+np.cos(dy)\n",
        "print(function) #prints the result of the equation\n",
        "plt.imshow(function) #displays the imshow for function\n",
        "plt.title('function of 2dx+3dy')\n",
        "print(plt.colorbar())\n",
        "plt.imshow(function2) #displays the imshow for function2\n",
        "plt.title('function of cos(dx)+cos(dy)')\n",
        "print(plt.colorbar())"
      ],
      "execution_count": 45,
      "outputs": [
        {
          "output_type": "stream",
          "text": [
            "[[ 2  7 12 17 22 27 32 37 42 47]\n",
            " [ 2  7 12 17 22 27 32 37 42 47]\n",
            " [ 2  7 12 17 22 27 32 37 42 47]\n",
            " [ 2  7 12 17 22 27 32 37 42 47]\n",
            " [ 2  7 12 17 22 27 32 37 42 47]\n",
            " [ 2  7 12 17 22 27 32 37 42 47]\n",
            " [ 2  7 12 17 22 27 32 37 42 47]\n",
            " [ 2  7 12 17 22 27 32 37 42 47]\n",
            " [ 2  7 12 17 22 27 32 37 42 47]\n",
            " [ 2  7 12 17 22 27 32 37 42 47]]\n",
            "[[ 10  20  30  40  50  60  70  80  90 100]\n",
            " [ 25  35  45  55  65  75  85  95 105 115]\n",
            " [ 40  50  60  70  80  90 100 110 120 130]\n",
            " [ 55  65  75  85  95 105 115 125 135 145]\n",
            " [ 70  80  90 100 110 120 130 140 150 160]\n",
            " [ 85  95 105 115 125 135 145 155 165 175]\n",
            " [100 110 120 130 140 150 160 170 180 190]\n",
            " [115 125 135 145 155 165 175 185 195 205]\n",
            " [130 140 150 160 170 180 190 200 210 220]\n",
            " [145 155 165 175 185 195 205 215 225 235]]\n",
            "<matplotlib.colorbar.Colorbar object at 0x7fba98965630>\n",
            "<matplotlib.colorbar.Colorbar object at 0x7fba989215c0>\n"
          ],
          "name": "stdout"
        },
        {
          "output_type": "display_data",
          "data": {
            "image/png": "[encoded data removed]",
            "text/plain": [
              "<Figure size 432x288 with 3 Axes>"
            ]
          },
          "metadata": {
            "tags": [],
            "needs_background": "light"
          }
        }
      ]
    },
    {
      "cell_type": "code",
      "metadata": {
        "id": "Nyk5UO-jx6bE",
        "colab_type": "code",
        "colab": {
          "base_uri": "https://localhost:8080/",
          "height": 54
        },
        "outputId": "7ff90251-6d8b-47db-e343-7a2af4d0216f"
      },
      "source": [
        "#conditional clauses and boolean operations\n",
        "x = np.array([100,200,300,400])\n",
        "y = np.array([10,15,20,25])\n",
        "condition = ([True,True,False,False])\n",
        "\n",
        "z = np.where(condition, x, y)\n",
        "print(z) #prints the element of X where true and of y where false\n",
        "\n",
        "z1 = np.where(x>0,0,1) #returns zero if x>0 else returns 1\n",
        "print(z1)"
      ],
      "execution_count": 46,
      "outputs": [
        {
          "output_type": "stream",
          "text": [
            "[100 200  20  25]\n",
            "[0 0 0 0]\n"
          ],
          "name": "stdout"
        }
      ]
    },
    {
      "cell_type": "code",
      "metadata": {
        "id": "tJu96vRiz449",
        "colab_type": "code",
        "colab": {
          "base_uri": "https://localhost:8080/",
          "height": 199
        },
        "outputId": "a3933a16-ad38-4537-b54b-c82fd1c11887"
      },
      "source": [
        "#standard functions of numpy\n",
        "print(x.sum()) #prints the sum of the values in the row\n",
        "print(my_array4.sum(0)) #prints the sum of the values in the columns\n",
        "print(my_array4.sum(1)) #prints the sum of values in the row\n",
        "print(my_array4)\n",
        "print(x.mean()) #prints the mean of values in the array\n",
        "print(x.std()) #prints the standard deviation of values in the array\n",
        "print(x.var()) #prints the variance of values in the array"
      ],
      "execution_count": 47,
      "outputs": [
        {
          "output_type": "stream",
          "text": [
            "1000\n",
            "[22 23 24]\n",
            "[ 0  3  6 60]\n",
            "[[ 0  0  0]\n",
            " [ 1  1  1]\n",
            " [ 2  2  2]\n",
            " [19 20 21]]\n",
            "250.0\n",
            "111.80339887498948\n",
            "12500.0\n"
          ],
          "name": "stdout"
        }
      ]
    },
    {
      "cell_type": "code",
      "metadata": {
        "id": "jHUdVz_82kkx",
        "colab_type": "code",
        "colab": {
          "base_uri": "https://localhost:8080/",
          "height": 54
        },
        "outputId": "0f2e3525-eb9f-41e4-cccc-b3623065a8bc"
      },
      "source": [
        "#logical operations (and /or  operations)\n",
        "condition2 = np.array([True,False,True])\n",
        "print(condition2.any()) #returns true if any is true, or operator\n",
        "print(condition2.all()) #returns true if all are true, else it returns false, and operator"
      ],
      "execution_count": 48,
      "outputs": [
        {
          "output_type": "stream",
          "text": [
            "True\n",
            "False\n"
          ],
          "name": "stdout"
        }
      ]
    },
    {
      "cell_type": "code",
      "metadata": {
        "id": "WAc0xYn2cS1o",
        "colab_type": "code",
        "colab": {
          "base_uri": "https://localhost:8080/",
          "height": 72
        },
        "outputId": "561e5155-ba9c-4a7c-9b7c-3ac2e1d19bbf"
      },
      "source": [
        "#sorting in numpy arrays\n",
        "unsorted_array = np.array([5,8,5,8,98,21,15,85,25,94])\n",
        "unsorted_array.sort()\n",
        "print(unsorted_array) #prints the sorted elements of the list\n",
        "print(np.unique(unsorted_array)) #prints the unique elements in a list\n",
        "print(np.in1d([5,8,9,60,87],unsorted_array)) #prints the boolean value of the value in the 1 dimensional array"
      ],
      "execution_count": 49,
      "outputs": [
        {
          "output_type": "stream",
          "text": [
            "[ 5  5  8  8 15 21 25 85 94 98]\n",
            "[ 5  8 15 21 25 85 94 98]\n",
            "[ True  True False False False]\n"
          ],
          "name": "stdout"
        }
      ]
    },
    {
      "cell_type": "markdown",
      "metadata": {
        "id": "7e1HmIPx9QdC",
        "colab_type": "text"
      },
      "source": [
        "##**PANDAS**"
      ]
    },
    {
      "cell_type": "code",
      "metadata": {
        "id": "4SPNVtZ0fDAt",
        "colab_type": "code",
        "colab": {
          "base_uri": "https://localhost:8080/",
          "height": 1000
        },
        "outputId": "9ab44818-9f9f-4a6d-8799-97de4796c3d2"
      },
      "source": [
        "#working with Series in pandas\n",
        "object = Series([1,5,5,44,4,4,4])\n",
        "print(object) #prints the values in series and their index\n",
        "print(object.values) #prints the values in the series only\n",
        "print(object.index) #prints the index in the series only\n",
        "\n",
        "#using numpy array to form series\n",
        "my_array7 = np.arange(2,20,2)\n",
        "b = Series(my_array7)\n",
        "print(b) #prints my_array7 as a Series\n",
        "\n",
        "#the index of series can be customized to what is desired\n",
        "c = Series(my_array7,index=[10,20,30,40,50,60,70,80,90])\n",
        "print(c) #prints my_array7 as a Series with the customized index\n",
        "d = Series(my_array7,index=['one','two','three','four','five','six','seven','eight','nine'])\n",
        "print(d) #prints my_array7 as a Series with the customized index of strings\n",
        "\n",
        "#indexing series\n",
        "print(d['six']) #prints the element of 'd' with index of six\n",
        "\n",
        "#using conditions in series\n",
        "print(d[d>8]) #prints only elements greater than 8\n",
        "\n",
        "#using booleans in series\n",
        "print(56 in d) #prints True/False of the value in the series\n",
        "\n",
        "#converting series to dictionaries\n",
        "d_dictionary = d.to_dict()\n",
        "print(d_dictionary) #prints out the series as a dictionary\n",
        "\n",
        "# #dealing with missing values(nan)\n",
        "index_2=['one','two','three','four','five','six','seven','eight','nine','ten','eleven']\n",
        "d1 = Series(d,index_2)\n",
        "print(pd.isnull(d1)) #prints True for Nan and False for where the value exists\n",
        "print(pd.notnull(d1)) #prints the opposite of 'isnull'\n",
        "\n",
        "#addition of series\n",
        "print(d+d1) #prints the sum of the values with the corresponding index\n",
        "\n",
        "#\n",
        "d1.name = \"degrees\"\n",
        "d1.index.name = \"numbers\"\n",
        "print(d1)\n",
        "\n",
        "#replacing values in series\n",
        "s1 = Series([10,20,40,50,20,10,50,10])\n",
        "print(s1)\n",
        "print(s1.replace(50,np.nan)) #replaces 50 with nan\n",
        "print(s1.replace([10,20,50],[100,200,500])) #replacing using lists\n",
        "print(s1.replace({10:100,20:np.nan,40:400})) #replacing using dictionary"
      ],
      "execution_count": 50,
      "outputs": [
        {
          "output_type": "stream",
          "text": [
            "0     1\n",
            "1     5\n",
            "2     5\n",
            "3    44\n",
            "4     4\n",
            "5     4\n",
            "6     4\n",
            "dtype: int64\n",
            "[ 1  5  5 44  4  4  4]\n",
            "RangeIndex(start=0, stop=7, step=1)\n",
            "0     2\n",
            "1     4\n",
            "2     6\n",
            "3     8\n",
            "4    10\n",
            "5    12\n",
            "6    14\n",
            "7    16\n",
            "8    18\n",
            "dtype: int64\n",
            "10     2\n",
            "20     4\n",
            "30     6\n",
            "40     8\n",
            "50    10\n",
            "60    12\n",
            "70    14\n",
            "80    16\n",
            "90    18\n",
            "dtype: int64\n",
            "one       2\n",
            "two       4\n",
            "three     6\n",
            "four      8\n",
            "five     10\n",
            "six      12\n",
            "seven    14\n",
            "eight    16\n",
            "nine     18\n",
            "dtype: int64\n",
            "12\n",
            "five     10\n",
            "six      12\n",
            "seven    14\n",
            "eight    16\n",
            "nine     18\n",
            "dtype: int64\n",
            "False\n",
            "{'one': 2, 'two': 4, 'three': 6, 'four': 8, 'five': 10, 'six': 12, 'seven': 14, 'eight': 16, 'nine': 18}\n",
            "one       False\n",
            "two       False\n",
            "three     False\n",
            "four      False\n",
            "five      False\n",
            "six       False\n",
            "seven     False\n",
            "eight     False\n",
            "nine      False\n",
            "ten        True\n",
            "eleven     True\n",
            "dtype: bool\n",
            "one        True\n",
            "two        True\n",
            "three      True\n",
            "four       True\n",
            "five       True\n",
            "six        True\n",
            "seven      True\n",
            "eight      True\n",
            "nine       True\n",
            "ten       False\n",
            "eleven    False\n",
            "dtype: bool\n",
            "eight     32.0\n",
            "eleven     NaN\n",
            "five      20.0\n",
            "four      16.0\n",
            "nine      36.0\n",
            "one        4.0\n",
            "seven     28.0\n",
            "six       24.0\n",
            "ten        NaN\n",
            "three     12.0\n",
            "two        8.0\n",
            "dtype: float64\n",
            "numbers\n",
            "one        2.0\n",
            "two        4.0\n",
            "three      6.0\n",
            "four       8.0\n",
            "five      10.0\n",
            "six       12.0\n",
            "seven     14.0\n",
            "eight     16.0\n",
            "nine      18.0\n",
            "ten        NaN\n",
            "eleven     NaN\n",
            "Name: degrees, dtype: float64\n",
            "0    10\n",
            "1    20\n",
            "2    40\n",
            "3    50\n",
            "4    20\n",
            "5    10\n",
            "6    50\n",
            "7    10\n",
            "dtype: int64\n",
            "0    10.0\n",
            "1    20.0\n",
            "2    40.0\n",
            "3     NaN\n",
            "4    20.0\n",
            "5    10.0\n",
            "6     NaN\n",
            "7    10.0\n",
            "dtype: float64\n",
            "0    100\n",
            "1    200\n",
            "2     40\n",
            "3    500\n",
            "4    200\n",
            "5    100\n",
            "6    500\n",
            "7    100\n",
            "dtype: int64\n",
            "0    100.0\n",
            "1      NaN\n",
            "2    400.0\n",
            "3     50.0\n",
            "4      NaN\n",
            "5    100.0\n",
            "6     50.0\n",
            "7    100.0\n",
            "dtype: float64\n"
          ],
          "name": "stdout"
        }
      ]
    },
    {
      "cell_type": "code",
      "metadata": {
        "id": "A2ajYU-3s34X",
        "colab_type": "code",
        "colab": {
          "base_uri": "https://localhost:8080/",
          "height": 1000
        },
        "outputId": "f0d32e40-f9f7-4a3a-8c8f-126e858f8ebe"
      },
      "source": [
        "#working with dataframe\n",
        "revenue = pd.read_html('https://en.wikipedia.org/wiki/List_of_largest_companies_by_revenue')\n",
        "print(revenue)\n",
        "#using Dictionary to Dataframe\n",
        "df_dict = {'Country': ['Ghana', 'Kenya', 'Nigeria', 'Togo'],\n",
        "           'Capital': ['Accra', 'Nairobi', 'Abuja', 'Lome'],\n",
        "           'Population': [10000, 8500, 35000, 12000],\n",
        "           'Age': [60, 70, 80, 75]\n",
        "}\n",
        "df = pd.DataFrame(df_dict, index=[2, 4, 6, 8])\n",
        "print(df)\n",
        "print(df.columns) #prints the columns in the dataset\n",
        "print(df['Capital']) #prints the values of only the Capital column\n",
        "print(DataFrame(df,columns=['Capital','Population'])) #prints only Capital and population columns\n",
        "print(df.head(2)) #prints the first two rows of the table\n",
        "print(df.tail(2)) #prints the last two rows of the table\n",
        "print(df.iloc[0]) #prints all the details on row 1\n",
        "\n",
        "#assigning values to df using numpy\n",
        "new_array = np.array([50,75,100,25])\n",
        "df['GDP'] = new_array\n",
        "print(df) #prints a new column with the array values named GDP\n",
        "\n",
        "#assigning values to df using Series\n",
        "Growth_index = Series([5,7,2,3],index=[1,2,3,4])\n",
        "df['Growth_index'] = Growth_index\n",
        "print(df) #prints a new column with the Series values named Growth_index\n",
        "\n",
        "#deleting a column using from the df\n",
        "del df['Growth_index']\n",
        "print(df) #prints the dataframe after removing Growth_index\n"
      ],
      "execution_count": 51,
      "outputs": [
        {
          "output_type": "stream",
          "text": [
            "[    Rank                        Name  ...                       Country   Ref\n",
            "0      1                     Walmart  ...                 United States   [5]\n",
            "1      2               Sinopec Group  ...                         China   [6]\n",
            "2      3           Royal Dutch Shell  ...  Netherlands / United Kingdom   [7]\n",
            "3      4    China National Petroleum  ...                         China   [8]\n",
            "4      5                  State Grid  ...                         China   [9]\n",
            "5      6                Saudi Aramco  ...                  Saudi Arabia  [10]\n",
            "6      7                          BP  ...                United Kingdom  [11]\n",
            "7      8                  ExxonMobil  ...                 United States  [12]\n",
            "8      9                  Volkswagen  ...                       Germany  [13]\n",
            "9     10                      Toyota  ...                         Japan  [14]\n",
            "10    11                       Apple  ...                 United States  [15]\n",
            "11    12          Berkshire Hathaway  ...                 United States  [16]\n",
            "12    13                      Amazon  ...                 United States  [17]\n",
            "13    14                UnitedHealth  ...                 United States  [18]\n",
            "14    15         Samsung Electronics  ...                   South Korea  [19]\n",
            "15    16                    Glencore  ...   Switzerland  United Kingdom  [20]\n",
            "16    17                    McKesson  ...                 United States  [21]\n",
            "17    18                     Daimler  ...                       Germany  [22]\n",
            "18    19                  CVS Health  ...                 United States  [23]\n",
            "19    20                       Total  ...                        France  [24]\n",
            "20    21    China State Construction  ...                         China  [25]\n",
            "21    22                   Trafigura  ...                     Singapore  [26]\n",
            "22    23                     Foxconn  ...                        Taiwan  [27]\n",
            "23    24                        Exor  ...                   Netherlands  [28]\n",
            "24    25                        AT&T  ...                 United States  [29]\n",
            "25    26                        ICBC  ...                         China  [30]\n",
            "26    27           AmerisourceBergen  ...                 United States  [31]\n",
            "27    28                     Chevron  ...                 United States  [32]\n",
            "28    29           Ping An Insurance  ...                         China  [33]\n",
            "29    30                        Ford  ...                 United States  [34]\n",
            "30    31     China Construction Bank  ...                         China  [35]\n",
            "31    32              General Motors  ...                 United States  [36]\n",
            "32    33                  Mitsubishi  ...                         Japan  [37]\n",
            "33    34                       Honda  ...                         Japan  [38]\n",
            "34    35                      Costco  ...                 United States  [39]\n",
            "35    36  Agricultural Bank of China  ...                         China  [40]\n",
            "36    37                    Alphabet  ...                 United States  [41]\n",
            "37    38             Cardinal Health  ...                 United States  [42]\n",
            "38    39                  SAIC Motor  ...                         China  [43]\n",
            "39    40    Walgreens Boots Alliance  ...                 United States  [44]\n",
            "40    41              JPMorgan Chase  ...                 United States  [45]\n",
            "41    42                     Gazprom  ...                        Russia  [46]\n",
            "42    43                     Verizon  ...                 United States  [47]\n",
            "43    44               Bank of China  ...                         China  [48]\n",
            "44    45                     Allianz  ...                       Germany  [49]\n",
            "45    46                         AXA  ...                        France  [50]\n",
            "46    47                      Kroger  ...                 United States  [51]\n",
            "47    48            General Electric  ...                 United States  [52]\n",
            "48    49                  Fannie Mae  ...                 United States  [53]\n",
            "49    50                      Lukoil  ...                        Russia  [54]\n",
            "\n",
            "[50 rows x 8 columns],                                     vteExtreme wealth                                vteExtreme wealth.1\n",
            "0                                            Concepts  Capital accumulation Overaccumulation Economic...\n",
            "1   Capital accumulation Overaccumulation Economic...  Capital accumulation Overaccumulation Economic...\n",
            "2                                              People  Billionaire Centimillionaire Millionaire Capta...\n",
            "3                                              Wealth  Concentration Distribution Dynastic Effect Geo...\n",
            "4                                               Lists  People Forbes list of billionaires Female bill...\n",
            "5                                              People  Forbes list of billionaires Female billionaire...\n",
            "6                                       Organizations  Largest companies by revenue Largest corporate...\n",
            "7                                               Other  Cities by number of billionaires Countries by ...\n",
            "8                                            See also  Diseases of affluence Affluenza Argumentum ad ...\n",
            "9   Diseases of affluence Affluenza Argumentum ad ...  Diseases of affluence Affluenza Argumentum ad ...\n",
            "10                                       Philanthropy  Gospel of Wealth The Giving Pledge Philanthroc...\n",
            "11                                            Sayings  The rich get richer and the poor get poorer So...\n",
            "12                                              Media  Capitalism and Freedom Plutus Greek god of wea...\n",
            "13         Category By Country Commons Search Commons         Category By Country Commons Search Commons,                                                    0                                                  1\n",
            "0  Capital accumulation Overaccumulation Economic...  Capital accumulation Overaccumulation Economic...\n",
            "1                                             People  Billionaire Centimillionaire Millionaire Capta...\n",
            "2                                             Wealth  Concentration Distribution Dynastic Effect Geo...,                0                                                  1\n",
            "0         People  Forbes list of billionaires Female billionaire...\n",
            "1  Organizations  Largest companies by revenue Largest corporate...\n",
            "2          Other  Cities by number of billionaires Countries by ...,                                                    0                                                  1\n",
            "0  Diseases of affluence Affluenza Argumentum ad ...  Diseases of affluence Affluenza Argumentum ad ...\n",
            "1                                       Philanthropy  Gospel of Wealth The Giving Pledge Philanthroc...\n",
            "2                                            Sayings  The rich get richer and the poor get poorer So...\n",
            "3                                              Media  Capitalism and Freedom Plutus Greek god of wea...]\n",
            "   Country  Capital  Population  Age\n",
            "2    Ghana    Accra       10000   60\n",
            "4    Kenya  Nairobi        8500   70\n",
            "6  Nigeria    Abuja       35000   80\n",
            "8     Togo     Lome       12000   75\n",
            "Index(['Country', 'Capital', 'Population', 'Age'], dtype='object')\n",
            "2      Accra\n",
            "4    Nairobi\n",
            "6      Abuja\n",
            "8       Lome\n",
            "Name: Capital, dtype: object\n",
            "   Capital  Population\n",
            "2    Accra       10000\n",
            "4  Nairobi        8500\n",
            "6    Abuja       35000\n",
            "8     Lome       12000\n",
            "  Country  Capital  Population  Age\n",
            "2   Ghana    Accra       10000   60\n",
            "4   Kenya  Nairobi        8500   70\n",
            "   Country Capital  Population  Age\n",
            "6  Nigeria   Abuja       35000   80\n",
            "8     Togo    Lome       12000   75\n",
            "Country       Ghana\n",
            "Capital       Accra\n",
            "Population    10000\n",
            "Age              60\n",
            "Name: 2, dtype: object\n",
            "   Country  Capital  Population  Age  GDP\n",
            "2    Ghana    Accra       10000   60   50\n",
            "4    Kenya  Nairobi        8500   70   75\n",
            "6  Nigeria    Abuja       35000   80  100\n",
            "8     Togo     Lome       12000   75   25\n",
            "   Country  Capital  Population  Age  GDP  Growth_index\n",
            "2    Ghana    Accra       10000   60   50           7.0\n",
            "4    Kenya  Nairobi        8500   70   75           3.0\n",
            "6  Nigeria    Abuja       35000   80  100           NaN\n",
            "8     Togo     Lome       12000   75   25           NaN\n",
            "   Country  Capital  Population  Age  GDP\n",
            "2    Ghana    Accra       10000   60   50\n",
            "4    Kenya  Nairobi        8500   70   75\n",
            "6  Nigeria    Abuja       35000   80  100\n",
            "8     Togo     Lome       12000   75   25\n"
          ],
          "name": "stdout"
        }
      ]
    },
    {
      "cell_type": "code",
      "metadata": {
        "id": "eO1JJ_IGyUoJ",
        "colab_type": "code",
        "colab": {
          "base_uri": "https://localhost:8080/",
          "height": 90
        },
        "outputId": "ce67ffa2-239b-4c1b-e27a-b79fa3d98409"
      },
      "source": [
        "#indexing objects in dataframe and series\n",
        "print(df.index) #prints the index of the dataframe\n",
        "#negative index\n",
        "print(df.index[-2:]) #eliminates the first two elements of the series\n",
        "print(df.index[:-2]) #eliminates the last two elements of the series\n",
        "print(df.index[2:4]) #prints index 2 to less than 4"
      ],
      "execution_count": 52,
      "outputs": [
        {
          "output_type": "stream",
          "text": [
            "Int64Index([2, 4, 6, 8], dtype='int64')\n",
            "Int64Index([6, 8], dtype='int64')\n",
            "Int64Index([2, 4], dtype='int64')\n",
            "Int64Index([6, 8], dtype='int64')\n"
          ],
          "name": "stdout"
        }
      ]
    },
    {
      "cell_type": "code",
      "metadata": {
        "id": "v-cToo8Po2hR",
        "colab_type": "code",
        "colab": {
          "base_uri": "https://localhost:8080/",
          "height": 1000
        },
        "outputId": "df79dd05-1162-47e1-b3d0-d3bfd74de590"
      },
      "source": [
        "#reindexing methods\n",
        "c1 = Series([1,2,3,4,5,6,7,8,9,10],index=[0,10,20,30,40,50,60,70,80,90])\n",
        "print(c1)\n",
        "c2 = c1.reindex([0,10,15,20,25,30,35,40,45,50,55,60,65,70,75,80,85,90])\n",
        "print(c2) #creates new index using reindex\n",
        "c3 = c1.reindex([0,10,15,20,25,30,35,40,45,50,55,60,\n",
        "                 65,70,75,80,85,90,95,100], fill_value= 10)\n",
        "print(c3) #creates new index using reindex fill the values as 10\n",
        "\n",
        "#'forward fill' fills all values in the range of the index with the value of the last index\n",
        "c4 = c1.reindex(range(100), method='ffill')\n",
        "print(c4) \n",
        "\n",
        "\n"
      ],
      "execution_count": 53,
      "outputs": [
        {
          "output_type": "stream",
          "text": [
            "0      1\n",
            "10     2\n",
            "20     3\n",
            "30     4\n",
            "40     5\n",
            "50     6\n",
            "60     7\n",
            "70     8\n",
            "80     9\n",
            "90    10\n",
            "dtype: int64\n",
            "0      1.0\n",
            "10     2.0\n",
            "15     NaN\n",
            "20     3.0\n",
            "25     NaN\n",
            "30     4.0\n",
            "35     NaN\n",
            "40     5.0\n",
            "45     NaN\n",
            "50     6.0\n",
            "55     NaN\n",
            "60     7.0\n",
            "65     NaN\n",
            "70     8.0\n",
            "75     NaN\n",
            "80     9.0\n",
            "85     NaN\n",
            "90    10.0\n",
            "dtype: float64\n",
            "0       1\n",
            "10      2\n",
            "15     10\n",
            "20      3\n",
            "25     10\n",
            "30      4\n",
            "35     10\n",
            "40      5\n",
            "45     10\n",
            "50      6\n",
            "55     10\n",
            "60      7\n",
            "65     10\n",
            "70      8\n",
            "75     10\n",
            "80      9\n",
            "85     10\n",
            "90     10\n",
            "95     10\n",
            "100    10\n",
            "dtype: int64\n",
            "0      1\n",
            "1      1\n",
            "2      1\n",
            "3      1\n",
            "4      1\n",
            "      ..\n",
            "95    10\n",
            "96    10\n",
            "97    10\n",
            "98    10\n",
            "99    10\n",
            "Length: 100, dtype: int64\n"
          ],
          "name": "stdout"
        }
      ]
    },
    {
      "cell_type": "code",
      "metadata": {
        "id": "7N1xxz8C795S",
        "colab_type": "code",
        "colab": {
          "base_uri": "https://localhost:8080/",
          "height": 472
        },
        "outputId": "93618ee6-e935-4d75-c3d5-7655023aabe3"
      },
      "source": [
        "#creating dataframe using randn\n",
        "from numpy.random import randn\n",
        "df_random = DataFrame(randn(25).reshape(5,5),\n",
        "                      index=[1,2,3,4,5], columns=['a','b','c','d','e'])\n",
        "print(df_random)\n",
        "#reindexing rows and columns\n",
        "df_random1 = df_random.reindex([1,2,3,4,5,6],\n",
        "                               columns= ['a','b','c','d','e','f'],fill_value=1)\n",
        "print(df_random1) #prints the dataframe with new rows and columns and filled with 1\n",
        "#dropping values from rows and columns\n",
        "df_random2 = df_random1.drop(6)\n",
        "print(df_random2) #deletes the row with index 6\n",
        "#for columns the axis '1' must be specified\n",
        "df_random3 = df_random2.drop('f',axis=1) #deletes the column 'f'\n",
        "print(df_random3) #deletes the column with label 'f'\n"
      ],
      "execution_count": 54,
      "outputs": [
        {
          "output_type": "stream",
          "text": [
            "          a         b         c         d         e\n",
            "1  1.088896 -1.273099 -1.476834 -0.446015  0.634283\n",
            "2 -0.845273  0.664502  3.651986  0.319263  0.223244\n",
            "3 -1.551274  1.660067  0.280008 -0.361065  0.997304\n",
            "4 -0.789935 -1.345905 -0.225103  0.744530 -1.002459\n",
            "5 -0.599923  1.346986  0.086297 -0.109099  0.555772\n",
            "          a         b         c         d         e    f\n",
            "1  1.088896 -1.273099 -1.476834 -0.446015  0.634283  1.0\n",
            "2 -0.845273  0.664502  3.651986  0.319263  0.223244  1.0\n",
            "3 -1.551274  1.660067  0.280008 -0.361065  0.997304  1.0\n",
            "4 -0.789935 -1.345905 -0.225103  0.744530 -1.002459  1.0\n",
            "5 -0.599923  1.346986  0.086297 -0.109099  0.555772  1.0\n",
            "6  1.000000  1.000000  1.000000  1.000000  1.000000  1.0\n",
            "          a         b         c         d         e    f\n",
            "1  1.088896 -1.273099 -1.476834 -0.446015  0.634283  1.0\n",
            "2 -0.845273  0.664502  3.651986  0.319263  0.223244  1.0\n",
            "3 -1.551274  1.660067  0.280008 -0.361065  0.997304  1.0\n",
            "4 -0.789935 -1.345905 -0.225103  0.744530 -1.002459  1.0\n",
            "5 -0.599923  1.346986  0.086297 -0.109099  0.555772  1.0\n",
            "          a         b         c         d         e\n",
            "1  1.088896 -1.273099 -1.476834 -0.446015  0.634283\n",
            "2 -0.845273  0.664502  3.651986  0.319263  0.223244\n",
            "3 -1.551274  1.660067  0.280008 -0.361065  0.997304\n",
            "4 -0.789935 -1.345905 -0.225103  0.744530 -1.002459\n",
            "5 -0.599923  1.346986  0.086297 -0.109099  0.555772\n"
          ],
          "name": "stdout"
        }
      ]
    },
    {
      "cell_type": "code",
      "metadata": {
        "id": "w8P1YGkV9TVM",
        "colab_type": "code",
        "colab": {
          "base_uri": "https://localhost:8080/",
          "height": 526
        },
        "outputId": "3268e936-3354-40e9-a830-69358c00688e"
      },
      "source": [
        "#handling missing data\n",
        "df_dict2 = {'Name': ['James', 'Yemen', 'Caro', np.nan],\n",
        "           'Profession': ['Researcher', 'Artist', 'Doctor', 'Writer'],\n",
        "           'Experience': [12, np.nan, 10, 8],\n",
        "            'Sex': [np.nan,np.nan,np.nan,np.nan],\n",
        "           'Height': [np.nan, 175, 180, 150]}\n",
        "new_df = pd.DataFrame(df_dict2)\n",
        "print(new_df)\n",
        "print(new_df.isnull()) #retuns true or false for nan values\n",
        "print(new_df.dropna()) #drops all rows with nan values\n",
        "print(new_df.dropna(how='all',axis=1)) #drops only columns with all values nan \n",
        "print(new_df.dropna(thresh=3,axis=1)) #drops any columns without at least 3 values\n",
        "print(new_df.fillna({'Name': 'Tunde',\n",
        "           'Profession': 'lawyer',\n",
        "           'Experience': 1,\n",
        "            'Sex': 'Male',\n",
        "           'Height': 170})) #fills the nan with a dictionary\n"
      ],
      "execution_count": 55,
      "outputs": [
        {
          "output_type": "stream",
          "text": [
            "    Name  Profession  Experience  Sex  Height\n",
            "0  James  Researcher        12.0  NaN     NaN\n",
            "1  Yemen      Artist         NaN  NaN   175.0\n",
            "2   Caro      Doctor        10.0  NaN   180.0\n",
            "3    NaN      Writer         8.0  NaN   150.0\n",
            "    Name  Profession  Experience   Sex  Height\n",
            "0  False       False       False  True    True\n",
            "1  False       False        True  True   False\n",
            "2  False       False       False  True   False\n",
            "3   True       False       False  True   False\n",
            "Empty DataFrame\n",
            "Columns: [Name, Profession, Experience, Sex, Height]\n",
            "Index: []\n",
            "    Name  Profession  Experience  Height\n",
            "0  James  Researcher        12.0     NaN\n",
            "1  Yemen      Artist         NaN   175.0\n",
            "2   Caro      Doctor        10.0   180.0\n",
            "3    NaN      Writer         8.0   150.0\n",
            "    Name  Profession  Experience  Height\n",
            "0  James  Researcher        12.0     NaN\n",
            "1  Yemen      Artist         NaN   175.0\n",
            "2   Caro      Doctor        10.0   180.0\n",
            "3    NaN      Writer         8.0   150.0\n",
            "    Name  Profession  Experience   Sex  Height\n",
            "0  James  Researcher        12.0  Male   170.0\n",
            "1  Yemen      Artist         1.0  Male   175.0\n",
            "2   Caro      Doctor        10.0  Male   180.0\n",
            "3  Tunde      Writer         8.0  Male   150.0\n"
          ],
          "name": "stdout"
        }
      ]
    },
    {
      "cell_type": "code",
      "metadata": {
        "id": "xZQh_GeM4jSE",
        "colab_type": "code",
        "colab": {
          "base_uri": "https://localhost:8080/",
          "height": 168
        },
        "outputId": "c6d46254-55c4-4aa5-fbf8-17f24d0973ae"
      },
      "source": [
        "df_dict4 = {'Country': ['Senegal', 'Kenya', 'Ethiopia', 'Togo'],\n",
        "           'Capital': ['Bamako', 'Nairobi', 'Addis Ababa', 'Lome'],\n",
        "           'Population': [8000, 8500, 35000, 12000],\n",
        "           'Age': [60, 70, 65,80]\n",
        "}\n",
        "df4 = pd.DataFrame(df_dict4, index=[2, 4, 6, 8])\n",
        "df4"
      ],
      "execution_count": 56,
      "outputs": [
        {
          "output_type": "execute_result",
          "data": {
            "text/html": [
              "<div>\n",
              "<style scoped>\n",
              "    .dataframe tbody tr th:only-of-type {\n",
              "        vertical-align: middle;\n",
              "    }\n",
              "\n",
              "    .dataframe tbody tr th {\n",
              "        vertical-align: top;\n",
              "    }\n",
              "\n",
              "    .dataframe thead th {\n",
              "        text-align: right;\n",
              "    }\n",
              "</style>\n",
              "<table border=\"1\" class=\"dataframe\">\n",
              "  <thead>\n",
              "    <tr style=\"text-align: right;\">\n",
              "      <th></th>\n",
              "      <th>Country</th>\n",
              "      <th>Capital</th>\n",
              "      <th>Population</th>\n",
              "      <th>Age</th>\n",
              "    </tr>\n",
              "  </thead>\n",
              "  <tbody>\n",
              "    <tr>\n",
              "      <th>2</th>\n",
              "      <td>Senegal</td>\n",
              "      <td>Bamako</td>\n",
              "      <td>8000</td>\n",
              "      <td>60</td>\n",
              "    </tr>\n",
              "    <tr>\n",
              "      <th>4</th>\n",
              "      <td>Kenya</td>\n",
              "      <td>Nairobi</td>\n",
              "      <td>8500</td>\n",
              "      <td>70</td>\n",
              "    </tr>\n",
              "    <tr>\n",
              "      <th>6</th>\n",
              "      <td>Ethiopia</td>\n",
              "      <td>Addis Ababa</td>\n",
              "      <td>35000</td>\n",
              "      <td>65</td>\n",
              "    </tr>\n",
              "    <tr>\n",
              "      <th>8</th>\n",
              "      <td>Togo</td>\n",
              "      <td>Lome</td>\n",
              "      <td>12000</td>\n",
              "      <td>80</td>\n",
              "    </tr>\n",
              "  </tbody>\n",
              "</table>\n",
              "</div>"
            ],
            "text/plain": [
              "    Country      Capital  Population  Age\n",
              "2   Senegal       Bamako        8000   60\n",
              "4     Kenya      Nairobi        8500   70\n",
              "6  Ethiopia  Addis Ababa       35000   65\n",
              "8      Togo         Lome       12000   80"
            ]
          },
          "metadata": {
            "tags": []
          },
          "execution_count": 56
        }
      ]
    },
    {
      "cell_type": "code",
      "metadata": {
        "id": "qV2Bn2df-wDf",
        "colab_type": "code",
        "colab": {
          "base_uri": "https://localhost:8080/",
          "height": 199
        },
        "outputId": "854eac89-1905-423b-f05d-ee3d6a1365b2"
      },
      "source": [
        "df_dict5 = {'Country': ['Senegal', np.nan, 'Ethiopia', 'Togo'],\n",
        "           'Capital': ['Bamako', 'Nairobi', 'Addis Ababa', np.nan],\n",
        "           'Population': [np.nan, 8500, np.nan, 12000],\n",
        "           'Age': [60, np.nan, 65,80]\n",
        "}\n",
        "df5 = pd.DataFrame(df_dict5, index=[2, 4, 6, 8])\n",
        "print(df5)\n",
        "\n",
        "# combining dataframes\n",
        "df6 = df5.combine_first(df4)\n",
        "print(df6) #prints the values of df5 with the nan values replaced from df4"
      ],
      "execution_count": 57,
      "outputs": [
        {
          "output_type": "stream",
          "text": [
            "    Country      Capital  Population   Age\n",
            "2   Senegal       Bamako         NaN  60.0\n",
            "4       NaN      Nairobi      8500.0   NaN\n",
            "6  Ethiopia  Addis Ababa         NaN  65.0\n",
            "8      Togo          NaN     12000.0  80.0\n",
            "    Country      Capital  Population   Age\n",
            "2   Senegal       Bamako      8000.0  60.0\n",
            "4     Kenya      Nairobi      8500.0  70.0\n",
            "6  Ethiopia  Addis Ababa     35000.0  65.0\n",
            "8      Togo         Lome     12000.0  80.0\n"
          ],
          "name": "stdout"
        }
      ]
    },
    {
      "cell_type": "code",
      "metadata": {
        "id": "S5wXwsY466os",
        "colab_type": "code",
        "colab": {
          "base_uri": "https://localhost:8080/",
          "height": 78
        },
        "outputId": "24ad08c0-94c9-4040-8abd-b92c87664e47"
      },
      "source": [
        "#merging dataframes\n",
        "merger = pd.merge(df,df4)\n",
        "merger #prints only columns that are the same in both dataframes"
      ],
      "execution_count": 58,
      "outputs": [
        {
          "output_type": "execute_result",
          "data": {
            "text/html": [
              "<div>\n",
              "<style scoped>\n",
              "    .dataframe tbody tr th:only-of-type {\n",
              "        vertical-align: middle;\n",
              "    }\n",
              "\n",
              "    .dataframe tbody tr th {\n",
              "        vertical-align: top;\n",
              "    }\n",
              "\n",
              "    .dataframe thead th {\n",
              "        text-align: right;\n",
              "    }\n",
              "</style>\n",
              "<table border=\"1\" class=\"dataframe\">\n",
              "  <thead>\n",
              "    <tr style=\"text-align: right;\">\n",
              "      <th></th>\n",
              "      <th>Country</th>\n",
              "      <th>Capital</th>\n",
              "      <th>Population</th>\n",
              "      <th>Age</th>\n",
              "      <th>GDP</th>\n",
              "    </tr>\n",
              "  </thead>\n",
              "  <tbody>\n",
              "    <tr>\n",
              "      <th>0</th>\n",
              "      <td>Kenya</td>\n",
              "      <td>Nairobi</td>\n",
              "      <td>8500</td>\n",
              "      <td>70</td>\n",
              "      <td>75</td>\n",
              "    </tr>\n",
              "  </tbody>\n",
              "</table>\n",
              "</div>"
            ],
            "text/plain": [
              "  Country  Capital  Population  Age  GDP\n",
              "0   Kenya  Nairobi        8500   70   75"
            ]
          },
          "metadata": {
            "tags": []
          },
          "execution_count": 58
        }
      ]
    },
    {
      "cell_type": "code",
      "metadata": {
        "id": "qcWMjeCK5Bzg",
        "colab_type": "code",
        "colab": {
          "base_uri": "https://localhost:8080/",
          "height": 108
        },
        "outputId": "d44137e4-5c57-44a5-ccc9-8d064b4c1d08"
      },
      "source": [
        "#merging dataframes based on a column\n",
        "merger2 = pd.merge(df,df4,on='Country') # how='inner' gives the same result\n",
        "merger2 #prints only columns with same 'country' the same in both dataframes"
      ],
      "execution_count": 59,
      "outputs": [
        {
          "output_type": "execute_result",
          "data": {
            "text/html": [
              "<div>\n",
              "<style scoped>\n",
              "    .dataframe tbody tr th:only-of-type {\n",
              "        vertical-align: middle;\n",
              "    }\n",
              "\n",
              "    .dataframe tbody tr th {\n",
              "        vertical-align: top;\n",
              "    }\n",
              "\n",
              "    .dataframe thead th {\n",
              "        text-align: right;\n",
              "    }\n",
              "</style>\n",
              "<table border=\"1\" class=\"dataframe\">\n",
              "  <thead>\n",
              "    <tr style=\"text-align: right;\">\n",
              "      <th></th>\n",
              "      <th>Country</th>\n",
              "      <th>Capital_x</th>\n",
              "      <th>Population_x</th>\n",
              "      <th>Age_x</th>\n",
              "      <th>GDP</th>\n",
              "      <th>Capital_y</th>\n",
              "      <th>Population_y</th>\n",
              "      <th>Age_y</th>\n",
              "    </tr>\n",
              "  </thead>\n",
              "  <tbody>\n",
              "    <tr>\n",
              "      <th>0</th>\n",
              "      <td>Kenya</td>\n",
              "      <td>Nairobi</td>\n",
              "      <td>8500</td>\n",
              "      <td>70</td>\n",
              "      <td>75</td>\n",
              "      <td>Nairobi</td>\n",
              "      <td>8500</td>\n",
              "      <td>70</td>\n",
              "    </tr>\n",
              "    <tr>\n",
              "      <th>1</th>\n",
              "      <td>Togo</td>\n",
              "      <td>Lome</td>\n",
              "      <td>12000</td>\n",
              "      <td>75</td>\n",
              "      <td>25</td>\n",
              "      <td>Lome</td>\n",
              "      <td>12000</td>\n",
              "      <td>80</td>\n",
              "    </tr>\n",
              "  </tbody>\n",
              "</table>\n",
              "</div>"
            ],
            "text/plain": [
              "  Country Capital_x  Population_x  Age_x  GDP Capital_y  Population_y  Age_y\n",
              "0   Kenya   Nairobi          8500     70   75   Nairobi          8500     70\n",
              "1    Togo      Lome         12000     75   25      Lome         12000     80"
            ]
          },
          "metadata": {
            "tags": []
          },
          "execution_count": 59
        }
      ]
    },
    {
      "cell_type": "code",
      "metadata": {
        "id": "VpfG9O2g9WPb",
        "colab_type": "code",
        "colab": {
          "base_uri": "https://localhost:8080/",
          "height": 168
        },
        "outputId": "1889703f-818a-45ce-b0d8-041caaa3aee2"
      },
      "source": [
        "merger3 = pd.merge(df,df4,on='Country',how='left')\n",
        "merger3 #prints the columns of the dataframe on the left and merges with the right"
      ],
      "execution_count": 60,
      "outputs": [
        {
          "output_type": "execute_result",
          "data": {
            "text/html": [
              "<div>\n",
              "<style scoped>\n",
              "    .dataframe tbody tr th:only-of-type {\n",
              "        vertical-align: middle;\n",
              "    }\n",
              "\n",
              "    .dataframe tbody tr th {\n",
              "        vertical-align: top;\n",
              "    }\n",
              "\n",
              "    .dataframe thead th {\n",
              "        text-align: right;\n",
              "    }\n",
              "</style>\n",
              "<table border=\"1\" class=\"dataframe\">\n",
              "  <thead>\n",
              "    <tr style=\"text-align: right;\">\n",
              "      <th></th>\n",
              "      <th>Country</th>\n",
              "      <th>Capital_x</th>\n",
              "      <th>Population_x</th>\n",
              "      <th>Age_x</th>\n",
              "      <th>GDP</th>\n",
              "      <th>Capital_y</th>\n",
              "      <th>Population_y</th>\n",
              "      <th>Age_y</th>\n",
              "    </tr>\n",
              "  </thead>\n",
              "  <tbody>\n",
              "    <tr>\n",
              "      <th>0</th>\n",
              "      <td>Ghana</td>\n",
              "      <td>Accra</td>\n",
              "      <td>10000</td>\n",
              "      <td>60</td>\n",
              "      <td>50</td>\n",
              "      <td>NaN</td>\n",
              "      <td>NaN</td>\n",
              "      <td>NaN</td>\n",
              "    </tr>\n",
              "    <tr>\n",
              "      <th>1</th>\n",
              "      <td>Kenya</td>\n",
              "      <td>Nairobi</td>\n",
              "      <td>8500</td>\n",
              "      <td>70</td>\n",
              "      <td>75</td>\n",
              "      <td>Nairobi</td>\n",
              "      <td>8500.0</td>\n",
              "      <td>70.0</td>\n",
              "    </tr>\n",
              "    <tr>\n",
              "      <th>2</th>\n",
              "      <td>Nigeria</td>\n",
              "      <td>Abuja</td>\n",
              "      <td>35000</td>\n",
              "      <td>80</td>\n",
              "      <td>100</td>\n",
              "      <td>NaN</td>\n",
              "      <td>NaN</td>\n",
              "      <td>NaN</td>\n",
              "    </tr>\n",
              "    <tr>\n",
              "      <th>3</th>\n",
              "      <td>Togo</td>\n",
              "      <td>Lome</td>\n",
              "      <td>12000</td>\n",
              "      <td>75</td>\n",
              "      <td>25</td>\n",
              "      <td>Lome</td>\n",
              "      <td>12000.0</td>\n",
              "      <td>80.0</td>\n",
              "    </tr>\n",
              "  </tbody>\n",
              "</table>\n",
              "</div>"
            ],
            "text/plain": [
              "   Country Capital_x  Population_x  Age_x  GDP Capital_y  Population_y  Age_y\n",
              "0    Ghana     Accra         10000     60   50       NaN           NaN    NaN\n",
              "1    Kenya   Nairobi          8500     70   75   Nairobi        8500.0   70.0\n",
              "2  Nigeria     Abuja         35000     80  100       NaN           NaN    NaN\n",
              "3     Togo      Lome         12000     75   25      Lome       12000.0   80.0"
            ]
          },
          "metadata": {
            "tags": []
          },
          "execution_count": 60
        }
      ]
    },
    {
      "cell_type": "code",
      "metadata": {
        "id": "GO9-7ZTj-0_C",
        "colab_type": "code",
        "colab": {
          "base_uri": "https://localhost:8080/",
          "height": 228
        },
        "outputId": "a86332bd-8989-488a-9e09-cc454edde5bf"
      },
      "source": [
        "merger4 = pd.merge(df,df4,on='Country',how='outer',suffixes=('_first','_second'))\n",
        "merger4 #prints the columns of the dataframe listing all 'country' values"
      ],
      "execution_count": 61,
      "outputs": [
        {
          "output_type": "execute_result",
          "data": {
            "text/html": [
              "<div>\n",
              "<style scoped>\n",
              "    .dataframe tbody tr th:only-of-type {\n",
              "        vertical-align: middle;\n",
              "    }\n",
              "\n",
              "    .dataframe tbody tr th {\n",
              "        vertical-align: top;\n",
              "    }\n",
              "\n",
              "    .dataframe thead th {\n",
              "        text-align: right;\n",
              "    }\n",
              "</style>\n",
              "<table border=\"1\" class=\"dataframe\">\n",
              "  <thead>\n",
              "    <tr style=\"text-align: right;\">\n",
              "      <th></th>\n",
              "      <th>Country</th>\n",
              "      <th>Capital_first</th>\n",
              "      <th>Population_first</th>\n",
              "      <th>Age_first</th>\n",
              "      <th>GDP</th>\n",
              "      <th>Capital_second</th>\n",
              "      <th>Population_second</th>\n",
              "      <th>Age_second</th>\n",
              "    </tr>\n",
              "  </thead>\n",
              "  <tbody>\n",
              "    <tr>\n",
              "      <th>0</th>\n",
              "      <td>Ghana</td>\n",
              "      <td>Accra</td>\n",
              "      <td>10000.0</td>\n",
              "      <td>60.0</td>\n",
              "      <td>50.0</td>\n",
              "      <td>NaN</td>\n",
              "      <td>NaN</td>\n",
              "      <td>NaN</td>\n",
              "    </tr>\n",
              "    <tr>\n",
              "      <th>1</th>\n",
              "      <td>Kenya</td>\n",
              "      <td>Nairobi</td>\n",
              "      <td>8500.0</td>\n",
              "      <td>70.0</td>\n",
              "      <td>75.0</td>\n",
              "      <td>Nairobi</td>\n",
              "      <td>8500.0</td>\n",
              "      <td>70.0</td>\n",
              "    </tr>\n",
              "    <tr>\n",
              "      <th>2</th>\n",
              "      <td>Nigeria</td>\n",
              "      <td>Abuja</td>\n",
              "      <td>35000.0</td>\n",
              "      <td>80.0</td>\n",
              "      <td>100.0</td>\n",
              "      <td>NaN</td>\n",
              "      <td>NaN</td>\n",
              "      <td>NaN</td>\n",
              "    </tr>\n",
              "    <tr>\n",
              "      <th>3</th>\n",
              "      <td>Togo</td>\n",
              "      <td>Lome</td>\n",
              "      <td>12000.0</td>\n",
              "      <td>75.0</td>\n",
              "      <td>25.0</td>\n",
              "      <td>Lome</td>\n",
              "      <td>12000.0</td>\n",
              "      <td>80.0</td>\n",
              "    </tr>\n",
              "    <tr>\n",
              "      <th>4</th>\n",
              "      <td>Senegal</td>\n",
              "      <td>NaN</td>\n",
              "      <td>NaN</td>\n",
              "      <td>NaN</td>\n",
              "      <td>NaN</td>\n",
              "      <td>Bamako</td>\n",
              "      <td>8000.0</td>\n",
              "      <td>60.0</td>\n",
              "    </tr>\n",
              "    <tr>\n",
              "      <th>5</th>\n",
              "      <td>Ethiopia</td>\n",
              "      <td>NaN</td>\n",
              "      <td>NaN</td>\n",
              "      <td>NaN</td>\n",
              "      <td>NaN</td>\n",
              "      <td>Addis Ababa</td>\n",
              "      <td>35000.0</td>\n",
              "      <td>65.0</td>\n",
              "    </tr>\n",
              "  </tbody>\n",
              "</table>\n",
              "</div>"
            ],
            "text/plain": [
              "    Country Capital_first  ...  Population_second  Age_second\n",
              "0     Ghana         Accra  ...                NaN         NaN\n",
              "1     Kenya       Nairobi  ...             8500.0        70.0\n",
              "2   Nigeria         Abuja  ...                NaN         NaN\n",
              "3      Togo          Lome  ...            12000.0        80.0\n",
              "4   Senegal           NaN  ...             8000.0        60.0\n",
              "5  Ethiopia           NaN  ...            35000.0        65.0\n",
              "\n",
              "[6 rows x 8 columns]"
            ]
          },
          "metadata": {
            "tags": []
          },
          "execution_count": 61
        }
      ]
    },
    {
      "cell_type": "code",
      "metadata": {
        "id": "k_VupPLUA5ll",
        "colab_type": "code",
        "colab": {
          "base_uri": "https://localhost:8080/",
          "height": 228
        },
        "outputId": "dd7e8917-81a2-4826-fdb8-6856c469c54e"
      },
      "source": [
        "merger5 = pd.merge(df,df4,on='Country',how='outer',right_index=True)\n",
        "merger5 #references the index of the df on the right"
      ],
      "execution_count": 62,
      "outputs": [
        {
          "output_type": "execute_result",
          "data": {
            "text/html": [
              "<div>\n",
              "<style scoped>\n",
              "    .dataframe tbody tr th:only-of-type {\n",
              "        vertical-align: middle;\n",
              "    }\n",
              "\n",
              "    .dataframe tbody tr th {\n",
              "        vertical-align: top;\n",
              "    }\n",
              "\n",
              "    .dataframe thead th {\n",
              "        text-align: right;\n",
              "    }\n",
              "</style>\n",
              "<table border=\"1\" class=\"dataframe\">\n",
              "  <thead>\n",
              "    <tr style=\"text-align: right;\">\n",
              "      <th></th>\n",
              "      <th>Country</th>\n",
              "      <th>Capital_x</th>\n",
              "      <th>Population_x</th>\n",
              "      <th>Age_x</th>\n",
              "      <th>GDP</th>\n",
              "      <th>Capital_y</th>\n",
              "      <th>Population_y</th>\n",
              "      <th>Age_y</th>\n",
              "    </tr>\n",
              "  </thead>\n",
              "  <tbody>\n",
              "    <tr>\n",
              "      <th>2.0</th>\n",
              "      <td>Ghana</td>\n",
              "      <td>Accra</td>\n",
              "      <td>10000.0</td>\n",
              "      <td>60.0</td>\n",
              "      <td>50.0</td>\n",
              "      <td>NaN</td>\n",
              "      <td>NaN</td>\n",
              "      <td>NaN</td>\n",
              "    </tr>\n",
              "    <tr>\n",
              "      <th>4.0</th>\n",
              "      <td>Kenya</td>\n",
              "      <td>Nairobi</td>\n",
              "      <td>8500.0</td>\n",
              "      <td>70.0</td>\n",
              "      <td>75.0</td>\n",
              "      <td>Nairobi</td>\n",
              "      <td>8500.0</td>\n",
              "      <td>70.0</td>\n",
              "    </tr>\n",
              "    <tr>\n",
              "      <th>6.0</th>\n",
              "      <td>Nigeria</td>\n",
              "      <td>Abuja</td>\n",
              "      <td>35000.0</td>\n",
              "      <td>80.0</td>\n",
              "      <td>100.0</td>\n",
              "      <td>NaN</td>\n",
              "      <td>NaN</td>\n",
              "      <td>NaN</td>\n",
              "    </tr>\n",
              "    <tr>\n",
              "      <th>8.0</th>\n",
              "      <td>Togo</td>\n",
              "      <td>Lome</td>\n",
              "      <td>12000.0</td>\n",
              "      <td>75.0</td>\n",
              "      <td>25.0</td>\n",
              "      <td>Lome</td>\n",
              "      <td>12000.0</td>\n",
              "      <td>80.0</td>\n",
              "    </tr>\n",
              "    <tr>\n",
              "      <th>NaN</th>\n",
              "      <td>Senegal</td>\n",
              "      <td>NaN</td>\n",
              "      <td>NaN</td>\n",
              "      <td>NaN</td>\n",
              "      <td>NaN</td>\n",
              "      <td>Bamako</td>\n",
              "      <td>8000.0</td>\n",
              "      <td>60.0</td>\n",
              "    </tr>\n",
              "    <tr>\n",
              "      <th>NaN</th>\n",
              "      <td>Ethiopia</td>\n",
              "      <td>NaN</td>\n",
              "      <td>NaN</td>\n",
              "      <td>NaN</td>\n",
              "      <td>NaN</td>\n",
              "      <td>Addis Ababa</td>\n",
              "      <td>35000.0</td>\n",
              "      <td>65.0</td>\n",
              "    </tr>\n",
              "  </tbody>\n",
              "</table>\n",
              "</div>"
            ],
            "text/plain": [
              "      Country Capital_x  Population_x  ...    Capital_y  Population_y Age_y\n",
              "2.0     Ghana     Accra       10000.0  ...          NaN           NaN   NaN\n",
              "4.0     Kenya   Nairobi        8500.0  ...      Nairobi        8500.0  70.0\n",
              "6.0   Nigeria     Abuja       35000.0  ...          NaN           NaN   NaN\n",
              "8.0      Togo      Lome       12000.0  ...         Lome       12000.0  80.0\n",
              "NaN   Senegal       NaN           NaN  ...       Bamako        8000.0  60.0\n",
              "NaN  Ethiopia       NaN           NaN  ...  Addis Ababa       35000.0  65.0\n",
              "\n",
              "[6 rows x 8 columns]"
            ]
          },
          "metadata": {
            "tags": []
          },
          "execution_count": 62
        }
      ]
    },
    {
      "cell_type": "code",
      "metadata": {
        "id": "u1IHwmPtTPbC",
        "colab_type": "code",
        "colab": {
          "base_uri": "https://localhost:8080/",
          "height": 472
        },
        "outputId": "6c14ed97-52df-4a7b-91e2-8d274421a3d9"
      },
      "source": [
        "#concatenation entails combining all elements in the dataframes\n",
        "concat_1 = pd.concat([df,df4])\n",
        "print(concat_1) #prints the first dataframe then the second based on rows\n",
        "concat_2 = pd.concat([df,df4],axis=1)\n",
        "print(concat_2) #prints the first dataframe then the second based on columns\n",
        "concat_3 = pd.concat([df,df4],ignore_index=True)\n",
        "print(concat_3) #prints the new dataframe with new index"
      ],
      "execution_count": 63,
      "outputs": [
        {
          "output_type": "stream",
          "text": [
            "    Country      Capital  Population  Age    GDP\n",
            "2     Ghana        Accra       10000   60   50.0\n",
            "4     Kenya      Nairobi        8500   70   75.0\n",
            "6   Nigeria        Abuja       35000   80  100.0\n",
            "8      Togo         Lome       12000   75   25.0\n",
            "2   Senegal       Bamako        8000   60    NaN\n",
            "4     Kenya      Nairobi        8500   70    NaN\n",
            "6  Ethiopia  Addis Ababa       35000   65    NaN\n",
            "8      Togo         Lome       12000   80    NaN\n",
            "   Country  Capital Population  Age  ...   Country      Capital Population  Age\n",
            "2    Ghana    Accra      10000   60  ...   Senegal       Bamako       8000   60\n",
            "4    Kenya  Nairobi       8500   70  ...     Kenya      Nairobi       8500   70\n",
            "6  Nigeria    Abuja      35000   80  ...  Ethiopia  Addis Ababa      35000   65\n",
            "8     Togo     Lome      12000   75  ...      Togo         Lome      12000   80\n",
            "\n",
            "[4 rows x 9 columns]\n",
            "    Country      Capital  Population  Age    GDP\n",
            "0     Ghana        Accra       10000   60   50.0\n",
            "1     Kenya      Nairobi        8500   70   75.0\n",
            "2   Nigeria        Abuja       35000   80  100.0\n",
            "3      Togo         Lome       12000   75   25.0\n",
            "4   Senegal       Bamako        8000   60    NaN\n",
            "5     Kenya      Nairobi        8500   70    NaN\n",
            "6  Ethiopia  Addis Ababa       35000   65    NaN\n",
            "7      Togo         Lome       12000   80    NaN\n"
          ],
          "name": "stdout"
        }
      ]
    },
    {
      "cell_type": "code",
      "metadata": {
        "id": "UammIBRECP8N",
        "colab_type": "code",
        "colab": {
          "base_uri": "https://localhost:8080/",
          "height": 168
        },
        "outputId": "7013f235-0bba-434d-8e20-368d933c15d0"
      },
      "source": [
        "#join two dataframes, suffixes are important\n",
        "df.join(df4,lsuffix=\"_first\",rsuffix='_second') "
      ],
      "execution_count": 64,
      "outputs": [
        {
          "output_type": "execute_result",
          "data": {
            "text/html": [
              "<div>\n",
              "<style scoped>\n",
              "    .dataframe tbody tr th:only-of-type {\n",
              "        vertical-align: middle;\n",
              "    }\n",
              "\n",
              "    .dataframe tbody tr th {\n",
              "        vertical-align: top;\n",
              "    }\n",
              "\n",
              "    .dataframe thead th {\n",
              "        text-align: right;\n",
              "    }\n",
              "</style>\n",
              "<table border=\"1\" class=\"dataframe\">\n",
              "  <thead>\n",
              "    <tr style=\"text-align: right;\">\n",
              "      <th></th>\n",
              "      <th>Country_first</th>\n",
              "      <th>Capital_first</th>\n",
              "      <th>Population_first</th>\n",
              "      <th>Age_first</th>\n",
              "      <th>GDP</th>\n",
              "      <th>Country_second</th>\n",
              "      <th>Capital_second</th>\n",
              "      <th>Population_second</th>\n",
              "      <th>Age_second</th>\n",
              "    </tr>\n",
              "  </thead>\n",
              "  <tbody>\n",
              "    <tr>\n",
              "      <th>2</th>\n",
              "      <td>Ghana</td>\n",
              "      <td>Accra</td>\n",
              "      <td>10000</td>\n",
              "      <td>60</td>\n",
              "      <td>50</td>\n",
              "      <td>Senegal</td>\n",
              "      <td>Bamako</td>\n",
              "      <td>8000</td>\n",
              "      <td>60</td>\n",
              "    </tr>\n",
              "    <tr>\n",
              "      <th>4</th>\n",
              "      <td>Kenya</td>\n",
              "      <td>Nairobi</td>\n",
              "      <td>8500</td>\n",
              "      <td>70</td>\n",
              "      <td>75</td>\n",
              "      <td>Kenya</td>\n",
              "      <td>Nairobi</td>\n",
              "      <td>8500</td>\n",
              "      <td>70</td>\n",
              "    </tr>\n",
              "    <tr>\n",
              "      <th>6</th>\n",
              "      <td>Nigeria</td>\n",
              "      <td>Abuja</td>\n",
              "      <td>35000</td>\n",
              "      <td>80</td>\n",
              "      <td>100</td>\n",
              "      <td>Ethiopia</td>\n",
              "      <td>Addis Ababa</td>\n",
              "      <td>35000</td>\n",
              "      <td>65</td>\n",
              "    </tr>\n",
              "    <tr>\n",
              "      <th>8</th>\n",
              "      <td>Togo</td>\n",
              "      <td>Lome</td>\n",
              "      <td>12000</td>\n",
              "      <td>75</td>\n",
              "      <td>25</td>\n",
              "      <td>Togo</td>\n",
              "      <td>Lome</td>\n",
              "      <td>12000</td>\n",
              "      <td>80</td>\n",
              "    </tr>\n",
              "  </tbody>\n",
              "</table>\n",
              "</div>"
            ],
            "text/plain": [
              "  Country_first Capital_first  ...  Population_second  Age_second\n",
              "2         Ghana         Accra  ...               8000          60\n",
              "4         Kenya       Nairobi  ...               8500          70\n",
              "6       Nigeria         Abuja  ...              35000          65\n",
              "8          Togo          Lome  ...              12000          80\n",
              "\n",
              "[4 rows x 9 columns]"
            ]
          },
          "metadata": {
            "tags": []
          },
          "execution_count": 64
        }
      ]
    },
    {
      "cell_type": "code",
      "metadata": {
        "id": "ZwNgtJbVR-0n",
        "colab_type": "code",
        "colab": {
          "base_uri": "https://localhost:8080/",
          "height": 399
        },
        "outputId": "e2280578-47ea-4035-c462-e3a3c0a872be"
      },
      "source": [
        "#pandas statistics\n",
        "df['Population'].sum() #prints the sum of values in the population column\n",
        "print(df.mean()) #prints the mean of all the column with numbers\n",
        "print(df.max()) #prints the maximum number in every row with numbers\n",
        "print(df.min()) #prints the minimum values in every row with numbers \n",
        "print(df.cumsum()) #prints the cummulative sum at every row\n"
      ],
      "execution_count": 65,
      "outputs": [
        {
          "output_type": "stream",
          "text": [
            "Population    16375.00\n",
            "Age              71.25\n",
            "GDP              62.50\n",
            "dtype: float64\n",
            "Country          Togo\n",
            "Capital       Nairobi\n",
            "Population      35000\n",
            "Age                80\n",
            "GDP               100\n",
            "dtype: object\n",
            "Country       Ghana\n",
            "Capital       Abuja\n",
            "Population     8500\n",
            "Age              60\n",
            "GDP              25\n",
            "dtype: object\n",
            "                 Country                Capital  Population  Age  GDP\n",
            "2                  Ghana                  Accra       10000   60   50\n",
            "4             GhanaKenya           AccraNairobi       18500  130  125\n",
            "6      GhanaKenyaNigeria      AccraNairobiAbuja       53500  210  225\n",
            "8  GhanaKenyaNigeriaTogo  AccraNairobiAbujaLome       65500  285  250\n"
          ],
          "name": "stdout"
        }
      ]
    },
    {
      "cell_type": "code",
      "metadata": {
        "id": "UJeuPQcBSEqL",
        "colab_type": "code",
        "colab": {
          "base_uri": "https://localhost:8080/",
          "height": 288
        },
        "outputId": "b5bcecdd-a0d1-4185-ed30-fd3df6b7ef83"
      },
      "source": [
        "df.describe()  #details the max, min, count, mean, standard deviation of a dataframe"
      ],
      "execution_count": 66,
      "outputs": [
        {
          "output_type": "execute_result",
          "data": {
            "text/html": [
              "<div>\n",
              "<style scoped>\n",
              "    .dataframe tbody tr th:only-of-type {\n",
              "        vertical-align: middle;\n",
              "    }\n",
              "\n",
              "    .dataframe tbody tr th {\n",
              "        vertical-align: top;\n",
              "    }\n",
              "\n",
              "    .dataframe thead th {\n",
              "        text-align: right;\n",
              "    }\n",
              "</style>\n",
              "<table border=\"1\" class=\"dataframe\">\n",
              "  <thead>\n",
              "    <tr style=\"text-align: right;\">\n",
              "      <th></th>\n",
              "      <th>Population</th>\n",
              "      <th>Age</th>\n",
              "      <th>GDP</th>\n",
              "    </tr>\n",
              "  </thead>\n",
              "  <tbody>\n",
              "    <tr>\n",
              "      <th>count</th>\n",
              "      <td>4.000000</td>\n",
              "      <td>4.000000</td>\n",
              "      <td>4.000000</td>\n",
              "    </tr>\n",
              "    <tr>\n",
              "      <th>mean</th>\n",
              "      <td>16375.000000</td>\n",
              "      <td>71.250000</td>\n",
              "      <td>62.500000</td>\n",
              "    </tr>\n",
              "    <tr>\n",
              "      <th>std</th>\n",
              "      <td>12499.166639</td>\n",
              "      <td>8.539126</td>\n",
              "      <td>32.274861</td>\n",
              "    </tr>\n",
              "    <tr>\n",
              "      <th>min</th>\n",
              "      <td>8500.000000</td>\n",
              "      <td>60.000000</td>\n",
              "      <td>25.000000</td>\n",
              "    </tr>\n",
              "    <tr>\n",
              "      <th>25%</th>\n",
              "      <td>9625.000000</td>\n",
              "      <td>67.500000</td>\n",
              "      <td>43.750000</td>\n",
              "    </tr>\n",
              "    <tr>\n",
              "      <th>50%</th>\n",
              "      <td>11000.000000</td>\n",
              "      <td>72.500000</td>\n",
              "      <td>62.500000</td>\n",
              "    </tr>\n",
              "    <tr>\n",
              "      <th>75%</th>\n",
              "      <td>17750.000000</td>\n",
              "      <td>76.250000</td>\n",
              "      <td>81.250000</td>\n",
              "    </tr>\n",
              "    <tr>\n",
              "      <th>max</th>\n",
              "      <td>35000.000000</td>\n",
              "      <td>80.000000</td>\n",
              "      <td>100.000000</td>\n",
              "    </tr>\n",
              "  </tbody>\n",
              "</table>\n",
              "</div>"
            ],
            "text/plain": [
              "         Population        Age         GDP\n",
              "count      4.000000   4.000000    4.000000\n",
              "mean   16375.000000  71.250000   62.500000\n",
              "std    12499.166639   8.539126   32.274861\n",
              "min     8500.000000  60.000000   25.000000\n",
              "25%     9625.000000  67.500000   43.750000\n",
              "50%    11000.000000  72.500000   62.500000\n",
              "75%    17750.000000  76.250000   81.250000\n",
              "max    35000.000000  80.000000  100.000000"
            ]
          },
          "metadata": {
            "tags": []
          },
          "execution_count": 66
        }
      ]
    },
    {
      "cell_type": "code",
      "metadata": {
        "id": "TwTqeXCUBhbZ",
        "colab_type": "code",
        "colab": {
          "base_uri": "https://localhost:8080/",
          "height": 272
        },
        "outputId": "c5286555-e6d9-4e6a-ed9b-11242554b72f"
      },
      "source": [
        "#reshaping dataframes to stack and unstack\n",
        "df7 = DataFrame(np.arange(8).reshape(2,4),\n",
        "                index=pd.Index(['uber','grab'],name='cabs'),\n",
        "                columns=pd.Index(['c1','c2','c3','c4'],name='attributes'))\n",
        "print(df7)\n",
        "df7.stack(dropna=False) #prints the stacked dataframe"
      ],
      "execution_count": 67,
      "outputs": [
        {
          "output_type": "stream",
          "text": [
            "attributes  c1  c2  c3  c4\n",
            "cabs                      \n",
            "uber         0   1   2   3\n",
            "grab         4   5   6   7\n"
          ],
          "name": "stdout"
        },
        {
          "output_type": "execute_result",
          "data": {
            "text/plain": [
              "cabs  attributes\n",
              "uber  c1            0\n",
              "      c2            1\n",
              "      c3            2\n",
              "      c4            3\n",
              "grab  c1            4\n",
              "      c2            5\n",
              "      c3            6\n",
              "      c4            7\n",
              "dtype: int64"
            ]
          },
          "metadata": {
            "tags": []
          },
          "execution_count": 67
        }
      ]
    },
    {
      "cell_type": "code",
      "metadata": {
        "id": "r_720em2Ehls",
        "colab_type": "code",
        "colab": {
          "base_uri": "https://localhost:8080/",
          "height": 228
        },
        "outputId": "b41b9e4d-df46-47d4-d5e8-9b3e7a30eb95"
      },
      "source": [
        "#pivot table\n",
        "df_list = pd.read_html('https://en.wikipedia.org/wiki/Pivot_table')\n",
        "df8 = df_list[0]\n",
        "df8\n",
        "df8.pivot('Date of sale','Sales person','Total price')"
      ],
      "execution_count": 68,
      "outputs": [
        {
          "output_type": "execute_result",
          "data": {
            "text/html": [
              "<div>\n",
              "<style scoped>\n",
              "    .dataframe tbody tr th:only-of-type {\n",
              "        vertical-align: middle;\n",
              "    }\n",
              "\n",
              "    .dataframe tbody tr th {\n",
              "        vertical-align: top;\n",
              "    }\n",
              "\n",
              "    .dataframe thead th {\n",
              "        text-align: right;\n",
              "    }\n",
              "</style>\n",
              "<table border=\"1\" class=\"dataframe\">\n",
              "  <thead>\n",
              "    <tr style=\"text-align: right;\">\n",
              "      <th>Sales person</th>\n",
              "      <th>George</th>\n",
              "      <th>Jones</th>\n",
              "      <th>Larry</th>\n",
              "      <th>Prince</th>\n",
              "    </tr>\n",
              "    <tr>\n",
              "      <th>Date of sale</th>\n",
              "      <th></th>\n",
              "      <th></th>\n",
              "      <th></th>\n",
              "      <th></th>\n",
              "    </tr>\n",
              "  </thead>\n",
              "  <tbody>\n",
              "    <tr>\n",
              "      <th>10/01/13</th>\n",
              "      <td>NaN</td>\n",
              "      <td>200000.0</td>\n",
              "      <td>NaN</td>\n",
              "      <td>NaN</td>\n",
              "    </tr>\n",
              "    <tr>\n",
              "      <th>10/02/13</th>\n",
              "      <td>NaN</td>\n",
              "      <td>NaN</td>\n",
              "      <td>NaN</td>\n",
              "      <td>140000.0</td>\n",
              "    </tr>\n",
              "    <tr>\n",
              "      <th>10/03/13</th>\n",
              "      <td>5100.0</td>\n",
              "      <td>NaN</td>\n",
              "      <td>NaN</td>\n",
              "      <td>NaN</td>\n",
              "    </tr>\n",
              "    <tr>\n",
              "      <th>10/04/13</th>\n",
              "      <td>NaN</td>\n",
              "      <td>NaN</td>\n",
              "      <td>270000.0</td>\n",
              "      <td>NaN</td>\n",
              "    </tr>\n",
              "    <tr>\n",
              "      <th>10/05/13</th>\n",
              "      <td>NaN</td>\n",
              "      <td>2800.0</td>\n",
              "      <td>NaN</td>\n",
              "      <td>NaN</td>\n",
              "    </tr>\n",
              "  </tbody>\n",
              "</table>\n",
              "</div>"
            ],
            "text/plain": [
              "Sales person  George     Jones     Larry    Prince\n",
              "Date of sale                                      \n",
              "10/01/13         NaN  200000.0       NaN       NaN\n",
              "10/02/13         NaN       NaN       NaN  140000.0\n",
              "10/03/13      5100.0       NaN       NaN       NaN\n",
              "10/04/13         NaN       NaN  270000.0       NaN\n",
              "10/05/13         NaN    2800.0       NaN       NaN"
            ]
          },
          "metadata": {
            "tags": []
          },
          "execution_count": 68
        }
      ]
    },
    {
      "cell_type": "code",
      "metadata": {
        "id": "dy_A9ZQMO8dJ",
        "colab_type": "code",
        "colab": {
          "base_uri": "https://localhost:8080/",
          "height": 126
        },
        "outputId": "4337ddad-9019-4f75-9060-ef267d47b6ba"
      },
      "source": [
        "#handling duplicates\n",
        "df9 = DataFrame({\n",
        "    'col1':['uber','uber','uber','uber','ola'],\n",
        "    'col2': [5,4,3,3,5]\n",
        "})\n",
        "print(df9)\n",
        "# print(df9.duplicated()) #prints the boolean of rows for duplicates\n",
        "# print(df9.drop_duplicates()) #deletes the duplicated rows\n",
        "# print(df9.drop_duplicates(['col1'])) #drops duplicates in the 'col1'\n",
        "# print(df9.drop_duplicates(['col2'],keep='last')) #deletes the duplicates leaving the last"
      ],
      "execution_count": 69,
      "outputs": [
        {
          "output_type": "stream",
          "text": [
            "   col1  col2\n",
            "0  uber     5\n",
            "1  uber     4\n",
            "2  uber     3\n",
            "3  uber     3\n",
            "4   ola     5\n"
          ],
          "name": "stdout"
        }
      ]
    },
    {
      "cell_type": "code",
      "metadata": {
        "id": "zqtnqqP2TkjF",
        "colab_type": "code",
        "colab": {
          "base_uri": "https://localhost:8080/",
          "height": 198
        },
        "outputId": "002db1d9-6e90-49f7-ba17-b8c4b6bfe97f"
      },
      "source": [
        "#mapping\n",
        "GDP = {'uber':20, 'uber':58, 'uber': 56, 'uber':25, 'ola':34}\n",
        "df9['GDP'] = df9['col1'].map(GDP)\n",
        "df9"
      ],
      "execution_count": 70,
      "outputs": [
        {
          "output_type": "execute_result",
          "data": {
            "text/html": [
              "<div>\n",
              "<style scoped>\n",
              "    .dataframe tbody tr th:only-of-type {\n",
              "        vertical-align: middle;\n",
              "    }\n",
              "\n",
              "    .dataframe tbody tr th {\n",
              "        vertical-align: top;\n",
              "    }\n",
              "\n",
              "    .dataframe thead th {\n",
              "        text-align: right;\n",
              "    }\n",
              "</style>\n",
              "<table border=\"1\" class=\"dataframe\">\n",
              "  <thead>\n",
              "    <tr style=\"text-align: right;\">\n",
              "      <th></th>\n",
              "      <th>col1</th>\n",
              "      <th>col2</th>\n",
              "      <th>GDP</th>\n",
              "    </tr>\n",
              "  </thead>\n",
              "  <tbody>\n",
              "    <tr>\n",
              "      <th>0</th>\n",
              "      <td>uber</td>\n",
              "      <td>5</td>\n",
              "      <td>25</td>\n",
              "    </tr>\n",
              "    <tr>\n",
              "      <th>1</th>\n",
              "      <td>uber</td>\n",
              "      <td>4</td>\n",
              "      <td>25</td>\n",
              "    </tr>\n",
              "    <tr>\n",
              "      <th>2</th>\n",
              "      <td>uber</td>\n",
              "      <td>3</td>\n",
              "      <td>25</td>\n",
              "    </tr>\n",
              "    <tr>\n",
              "      <th>3</th>\n",
              "      <td>uber</td>\n",
              "      <td>3</td>\n",
              "      <td>25</td>\n",
              "    </tr>\n",
              "    <tr>\n",
              "      <th>4</th>\n",
              "      <td>ola</td>\n",
              "      <td>5</td>\n",
              "      <td>34</td>\n",
              "    </tr>\n",
              "  </tbody>\n",
              "</table>\n",
              "</div>"
            ],
            "text/plain": [
              "   col1  col2  GDP\n",
              "0  uber     5   25\n",
              "1  uber     4   25\n",
              "2  uber     3   25\n",
              "3  uber     3   25\n",
              "4   ola     5   34"
            ]
          },
          "metadata": {
            "tags": []
          },
          "execution_count": 70
        }
      ]
    }
  ]
}