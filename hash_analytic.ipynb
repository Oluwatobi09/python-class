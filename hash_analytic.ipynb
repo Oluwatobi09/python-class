{
  "nbformat": 4,
  "nbformat_minor": 0,
  "metadata": {
    "colab": {
      "name": "hash_analytic.ipynb",
      "provenance": [],
      "collapsed_sections": [
        "XZRLsPzY9Xq5",
        "DZZ8c8AF9r3V"
      ],
      "authorship_tag": "ABX9TyOEUQq4gjoYlBoJkD8WbejP",
      "include_colab_link": true
    },
    "kernelspec": {
      "name": "python3",
      "display_name": "Python 3"
    }
  },
  "cells": [
    {
      "cell_type": "markdown",
      "metadata": {
        "id": "view-in-github",
        "colab_type": "text"
      },
      "source": [
        "<a href=\"https://colab.research.google.com/github/Oluwatobi09/python-class/blob/master/hash_analytic.ipynb\" target=\"_parent\"><img src=\"https://colab.research.google.com/assets/colab-badge.svg\" alt=\"Open In Colab\"/></a>"
      ]
    },
    {
      "cell_type": "code",
      "metadata": {
        "id": "oZpbujqywQ6j",
        "colab_type": "code",
        "colab": {}
      },
      "source": [
        "import numpy as np\n",
        "import pandas as pd\n",
        "import matplotlib as plt\n",
        "from pandas import Series , DataFrame"
      ],
      "execution_count": 2,
      "outputs": []
    },
    {
      "cell_type": "markdown",
      "metadata": {
        "id": "XZRLsPzY9Xq5",
        "colab_type": "text"
      },
      "source": [
        "##**NUMPY**"
      ]
    },
    {
      "cell_type": "code",
      "metadata": {
        "id": "4o0duxuiuLPo",
        "colab_type": "code",
        "colab": {}
      },
      "source": [
        "# convention for importing numpy\n",
        "import numpy as np\n",
        "#creating arrays from a list\n",
        "arr = [6, 7, 8, 9]\n",
        "print(type(arr)) # prints <class 'list'>\n",
        "\n",
        "a = np.array(arr)\n",
        "print(type(a))  # prints <class 'numpy.ndarray'>\n",
        "print(a.shape)  # prints (4,) - a is a 1d array with 4 items\n",
        "print(a.dtype)  # prints int64"
      ],
      "execution_count": null,
      "outputs": []
    },
    {
      "cell_type": "code",
      "metadata": {
        "id": "K_EbFNWK-p9r",
        "colab_type": "code",
        "colab": {}
      },
      "source": [
        "#creating arrays from two lists\n",
        "my_list1 = [1,2,3,4]\n",
        "my_list2 = [5,6,7,8]\n",
        "my_array = np.array([my_list1,my_list2])\n",
        "print(my_array) #prints the 2d array\n",
        "print(my_array.dtype)  #prints int64\n",
        "print(my_array.shape) #prints the array shape (2, 4) "
      ],
      "execution_count": null,
      "outputs": []
    },
    {
      "cell_type": "code",
      "metadata": {
        "id": "dppjnhvH35KS",
        "colab_type": "code",
        "colab": {}
      },
      "source": [
        "print(np.ones((2, 3))) # prints a 2x3 array of ones\n",
        "print(np.zeros((2, 3))) # prints a 2x3 array of zeroes\n",
        "print(np.zeros(5) ) # prints a 1x5 array of zeroes\n",
        "print(np.identity(3)) # prints a 3x3 identity matrix \n",
        "print(np.eye(3)) #prints an identity matrix to the degree indicated\n",
        "print(np.arange(5,50,4)) #prints a set of numbers between 5 and 50 skipping 4 everytime"
      ],
      "execution_count": null,
      "outputs": []
    },
    {
      "cell_type": "code",
      "metadata": {
        "id": "9kwcQZm58DHi",
        "colab_type": "code",
        "colab": {}
      },
      "source": [
        "my_array2 = np.array([[9.0, 8.0, 7.0], [1.0, 2.0, 3.0]])\n",
        "my_array3 = np.array([[4.0, 5.0, 6.0], [9.0, 8.0, 7.0]])\n",
        "\n",
        "my_array4 = np.array([[10, 11, 12],[13, 14, 15], \n",
        "              [16, 17, 18],[19, 20, 21]])"
      ],
      "execution_count": 6,
      "outputs": []
    },
    {
      "cell_type": "markdown",
      "metadata": {
        "id": "hDaeXJsTE3zg",
        "colab_type": "text"
      },
      "source": [
        "scalar Operations on Array\n"
      ]
    },
    {
      "cell_type": "code",
      "metadata": {
        "id": "ivurOLKzDteH",
        "colab_type": "code",
        "colab": {}
      },
      "source": [
        "print(my_array2 * my_array2) #prints the product of my_array and my_array2\n",
        "print(my_array3 + my_array2) #prints the sum of my_array3 and my_array2\n",
        "print(my_array2 - my_array3) #prints the difference between my_array2 and my_array3              \n",
        "print(my_array4 ** 3) #prints the the value of my_array 4 exponential 3\n",
        "print(1 / my_array ) #prints the recripocal of my_array"
      ],
      "execution_count": null,
      "outputs": []
    },
    {
      "cell_type": "markdown",
      "metadata": {
        "id": "UzLPywHZHjOP",
        "colab_type": "text"
      },
      "source": [
        "Array indexing\n",
        "\n",
        "\n",
        "1.   1 dimensional array\n",
        "2.   2 dimensional array\n",
        "\n"
      ]
    },
    {
      "cell_type": "code",
      "metadata": {
        "id": "IxiU-WQ-6ZCW",
        "colab_type": "code",
        "colab": {}
      },
      "source": [
        "''' 1 dimensional array'''\n",
        "my_array5 = np.arange(2,20,2)\n",
        "print(my_array5[5]) #prints the object with index 5 in the list\n",
        "\n",
        "# the items within a list can can be edited by assigning values\n",
        "my_array5[2:6] = 12\n",
        "print (my_array5) #prints my_array5 with the 12 from index 2 to 5\n",
        "my_array5[:] = 15 \n",
        "print (my_array5) #prints all the values in the array as 15\n",
        "\n",
        "#creating a copy of an array\n",
        "my_array5copy = my_array5.copy()\n",
        "\n",
        "''' 2 dimensional array'''\n",
        "#the first object in the set represents the row and the second the column\n",
        "print(my_array4[0]) #prints the first row in the row with index zero\n",
        "\n",
        "#the elements in the rows can be accessed also \n",
        "print(my_array4[1][2]) #prints the element in the row index 1 and column index 2\n",
        "\n",
        "#Elements in arrays  can also be retrieved by slicing rows and columns or a combination of indexing and slicing.\n",
        "print(my_array3[1,  0:2]) #prints the elements in row index 1 and column index 0 to 2\n",
        "\n",
        "# slicing\n",
        "print(my_array4[:3, 1:] ) #prints the elements from row index up to 3 and column index from 1 to end\n",
        "\n",
        "# the items within a list can can be edited by assigning values\n",
        "my_array4[:2, 1:]  = 12\n",
        "print (my_array4) #prints my_array4 with the 12 from row index up to 2 and column index from 1 to end\n",
        "\n"
      ],
      "execution_count": null,
      "outputs": []
    },
    {
      "cell_type": "code",
      "metadata": {
        "id": "91g2XhhNYDtb",
        "colab_type": "code",
        "colab": {
          "base_uri": "https://localhost:8080/",
          "height": 108
        },
        "outputId": "f28acd79-eab7-4428-e9ff-abf38e66f6c6"
      },
      "source": [
        "#using loops to index\n",
        "arr_len = my_array4.shape[1] #shape returns (rows,columns)\n",
        "print(arr_len) #prints the number of columns in my_array4\n",
        "for i in range(arr_len):\n",
        "  my_array4[i] = i\n",
        "print (my_array4) #prints the sequence of values until the loop is satisfied"
      ],
      "execution_count": 9,
      "outputs": [
        {
          "output_type": "stream",
          "text": [
            "3\n",
            "[[ 0  0  0]\n",
            " [ 1  1  1]\n",
            " [ 2  2  2]\n",
            " [19 20 21]]\n"
          ],
          "name": "stdout"
        }
      ]
    },
    {
      "cell_type": "code",
      "metadata": {
        "id": "5hT7c9AzbHGR",
        "colab_type": "code",
        "colab": {}
      },
      "source": [
        "#other ways of accessing rows, the double square brackets indicate only rows\n",
        "print(my_array4[[0,1]]) #prints all element on row index 0 and 1, zero first of the array\n",
        "print(my_array4[[1,0]]) #prints all element on row index 0 and 1, one first  of the array"
      ],
      "execution_count": null,
      "outputs": []
    },
    {
      "cell_type": "code",
      "metadata": {
        "id": "hAkt9MXgfY4I",
        "colab_type": "code",
        "colab": {}
      },
      "source": [
        "#universal array functions\n",
        "a = np.arange(1,15,2)\n",
        "b = np.arange(2,16,2)\n",
        "print(a) # prints an array of numbers within  the range \n",
        "print(b) # prints an array of numbers within  the range \n",
        "print(np.sqrt(a)) #sqrt prints the squareroot of a\n",
        "print(np.exp(a)) #exp prints the exponential of a \n",
        "print(np.add(a,b)) #add adds the values of a and b\n",
        "print(np.maximum(a,b)) #maximum prints the maximum between a and b\n",
        "#additional resources on scipy.org"
      ],
      "execution_count": null,
      "outputs": []
    },
    {
      "cell_type": "code",
      "metadata": {
        "id": "sBIKZBU9nB8E",
        "colab_type": "code",
        "colab": {}
      },
      "source": [
        "#loading and saving arrays"
      ],
      "execution_count": null,
      "outputs": []
    },
    {
      "cell_type": "code",
      "metadata": {
        "id": "t5FCbC_9nFzq",
        "colab_type": "code",
        "colab": {}
      },
      "source": [
        "#statistical and mathematical processing of arrays\n",
        "import matplotlib.pyplot as plt\n",
        "axes_values = np.arange(2,50,5)\n",
        "dx, dy = np.meshgrid(axes_values,axes_values)\n",
        "print(dx)\n",
        "function = 2*dx+3*dy\n",
        "function2 =  np.cos(dx)+np.cos(dy)\n",
        "print(function) #prints the result of the equation\n",
        "plt.imshow(function) #displays the imshow for function\n",
        "plt.title('function of 2dx+3dy')\n",
        "print(plt.colorbar())\n",
        "plt.imshow(function2) #displays the imshow for function2\n",
        "plt.title('function of cos(dx)+cos(dy)')\n",
        "print(plt.colorbar())"
      ],
      "execution_count": null,
      "outputs": []
    },
    {
      "cell_type": "code",
      "metadata": {
        "id": "Nyk5UO-jx6bE",
        "colab_type": "code",
        "colab": {}
      },
      "source": [
        "#conditional clauses and boolean operations\n",
        "x = np.array([100,200,300,400])\n",
        "y = np.array([10,15,20,25])\n",
        "condition = ([True,True,False,False])\n",
        "\n",
        "z = np.where(condition, x, y)\n",
        "print(z) #prints the element of X where true and of y where false\n",
        "\n",
        "z1 = np.where(x>0,0,1) #returns zero if x>0 else returns 1\n",
        "print(z1)"
      ],
      "execution_count": null,
      "outputs": []
    },
    {
      "cell_type": "code",
      "metadata": {
        "id": "tJu96vRiz449",
        "colab_type": "code",
        "colab": {}
      },
      "source": [
        "#standard functions of numpy\n",
        "print(x.sum()) #prints the sum of the values in the row\n",
        "print(my_array4.sum(0)) #prints the sum of the values in the columns\n",
        "print(my_array4.sum(1)) #prints the sum of values in the row\n",
        "print(my_array4)\n",
        "print(x.mean()) #prints the mean of values in the array\n",
        "print(x.std()) #prints the standard deviation of values in the array\n",
        "print(x.var()) #prints the variance of values in the array"
      ],
      "execution_count": null,
      "outputs": []
    },
    {
      "cell_type": "code",
      "metadata": {
        "id": "jHUdVz_82kkx",
        "colab_type": "code",
        "colab": {}
      },
      "source": [
        "#logical operations (and /or  operations)\n",
        "condition2 = np.array([True,False,True])\n",
        "print(condition2.any()) #returns true if any is true, or operator\n",
        "print(condition2.all()) #returns true if all are true, else it returns false, and operator"
      ],
      "execution_count": null,
      "outputs": []
    },
    {
      "cell_type": "code",
      "metadata": {
        "id": "WAc0xYn2cS1o",
        "colab_type": "code",
        "colab": {}
      },
      "source": [
        "#sorting in numpy arrays\n",
        "unsorted_array = np.array([5,8,5,8,98,21,15,85,25,94])\n",
        "unsorted_array.sort()\n",
        "print(unsorted_array) #prints the sorted elements of the list\n",
        "print(np.unique(unsorted_array)) #prints the unique elements in a list\n",
        "print(np.in1d([5,8,9,60,87],unsorted_array)) #prints the boolean value of the value in the 1 dimensional array"
      ],
      "execution_count": null,
      "outputs": []
    },
    {
      "cell_type": "markdown",
      "metadata": {
        "id": "7e1HmIPx9QdC",
        "colab_type": "text"
      },
      "source": [
        "##**PANDAS**"
      ]
    },
    {
      "cell_type": "code",
      "metadata": {
        "id": "4SPNVtZ0fDAt",
        "colab_type": "code",
        "colab": {}
      },
      "source": [
        "#working with Series in pandas\n",
        "object = Series([1,5,5,44,4,4,4])\n",
        "print(object) #prints the values in series and their index\n",
        "print(object.values) #prints the values in the series only\n",
        "print(object.index) #prints the index in the series only\n",
        "\n",
        "#using numpy array to form series\n",
        "my_array7 = np.arange(2,20,2)\n",
        "b = Series(my_array7)\n",
        "print(b) #prints my_array7 as a Series\n",
        "\n",
        "#the index of series can be customized to what is desired\n",
        "c = Series(my_array7,index=[10,20,30,40,50,60,70,80,90])\n",
        "print(c) #prints my_array7 as a Series with the customized index\n",
        "d = Series(my_array7,index=['one','two','three','four','five','six','seven','eight','nine'])\n",
        "print(d) #prints my_array7 as a Series with the customized index of strings\n",
        "\n",
        "#indexing series\n",
        "print(d['six']) #prints the element of 'd' with index of six\n",
        "\n",
        "#using conditions in series\n",
        "print(d[d>8]) #prints only elements greater than 8\n",
        "\n",
        "#using booleans in series\n",
        "print(56 in d) #prints True/False of the value in the series\n",
        "\n",
        "#converting series to dictionaries\n",
        "d_dictionary = d.to_dict()\n",
        "print(d_dictionary) #prints out the series as a dictionary\n",
        "\n",
        "# #dealing with missing values(nan)\n",
        "index_2=['one','two','three','four','five','six','seven','eight','nine','ten','eleven']\n",
        "d1 = Series(d,index_2)\n",
        "print(pd.isnull(d1)) #prints True for Nan and False for where the value exists\n",
        "print(pd.notnull(d1)) #prints the opposite of 'isnull'\n",
        "\n",
        "#addition of series\n",
        "print(d+d1) #prints the sum of the values with the corresponding index\n",
        "\n",
        "#\n",
        "d1.name = \"degrees\"\n",
        "d1.index.name = \"numbers\"\n",
        "print(d1)\n",
        "\n",
        "#replacing values in series\n",
        "s1 = Series([10,20,40,50,20,10,50,10])\n",
        "print(s1)\n",
        "print(s1.replace(50,np.nan)) #replaces 50 with nan\n",
        "print(s1.replace([10,20,50],[100,200,500])) #replacing using lists\n",
        "print(s1.replace({10:100,20:np.nan,40:400})) #replacing using dictionary"
      ],
      "execution_count": null,
      "outputs": []
    },
    {
      "cell_type": "code",
      "metadata": {
        "id": "A2ajYU-3s34X",
        "colab_type": "code",
        "colab": {}
      },
      "source": [
        "#working with dataframe\n",
        "revenue = pd.read_html('https://en.wikipedia.org/wiki/List_of_largest_companies_by_revenue')\n",
        "print(revenue)\n",
        "#using Dictionary to Dataframe\n",
        "df_dict = {'Country': ['Ghana', 'Kenya', 'Nigeria', 'Togo'],\n",
        "           'Capital': ['Accra', 'Nairobi', 'Abuja', 'Lome'],\n",
        "           'Population': [10000, 8500, 35000, 12000],\n",
        "           'Age': [60, 70, 80, 75]\n",
        "}\n",
        "df = pd.DataFrame(df_dict, index=[2, 4, 6, 8])\n",
        "print(df)\n",
        "print(df.columns) #prints the columns in the dataset\n",
        "print(df['Capital']) #prints the values of only the Capital column\n",
        "print(DataFrame(df,columns=['Capital','Population'])) #prints only Capital and population columns\n",
        "print(df.head(2)) #prints the first two rows of the table\n",
        "print(df.tail(2)) #prints the last two rows of the table\n",
        "print(df.iloc[0]) #prints all the details on row 1\n",
        "\n",
        "#assigning values to df using numpy\n",
        "new_array = np.array([50,75,100,25])\n",
        "df['GDP'] = new_array\n",
        "print(df) #prints a new column with the array values named GDP\n",
        "\n",
        "#assigning values to df using Series\n",
        "Growth_index = Series([5,7,2,3],index=[1,2,3,4])\n",
        "df['Growth_index'] = Growth_index\n",
        "print(df) #prints a new column with the Series values named Growth_index\n",
        "\n",
        "#deleting a column using from the df\n",
        "del df['Growth_index']\n",
        "print(df) #prints the dataframe after removing Growth_index\n"
      ],
      "execution_count": null,
      "outputs": []
    },
    {
      "cell_type": "code",
      "metadata": {
        "id": "eO1JJ_IGyUoJ",
        "colab_type": "code",
        "colab": {}
      },
      "source": [
        "#indexing objects in dataframe and series\n",
        "print(df.index) #prints the index of the dataframe\n",
        "#negative index\n",
        "print(df.index[-2:]) #eliminates the first two elements of the series\n",
        "print(df.index[:-2]) #eliminates the last two elements of the series\n",
        "print(df.index[2:4]) #prints index 2 to less than 4"
      ],
      "execution_count": null,
      "outputs": []
    },
    {
      "cell_type": "code",
      "metadata": {
        "id": "v-cToo8Po2hR",
        "colab_type": "code",
        "colab": {}
      },
      "source": [
        "#reindexing methods\n",
        "c1 = Series([1,2,3,4,5,6,7,8,9,10],index=[0,10,20,30,40,50,60,70,80,90])\n",
        "print(c1)\n",
        "c2 = c1.reindex([0,10,15,20,25,30,35,40,45,50,55,60,65,70,75,80,85,90])\n",
        "print(c2) #creates new index using reindex\n",
        "c3 = c1.reindex([0,10,15,20,25,30,35,40,45,50,55,60,\n",
        "                 65,70,75,80,85,90,95,100], fill_value= 10)\n",
        "print(c3) #creates new index using reindex fill the values as 10\n",
        "\n",
        "#'forward fill' fills all values in the range of the index with the value of the last index\n",
        "c4 = c1.reindex(range(100), method='ffill')\n",
        "print(c4) \n",
        "\n",
        "\n"
      ],
      "execution_count": null,
      "outputs": []
    },
    {
      "cell_type": "code",
      "metadata": {
        "id": "7N1xxz8C795S",
        "colab_type": "code",
        "colab": {}
      },
      "source": [
        "#creating dataframe using randn\n",
        "from numpy.random import randn\n",
        "df_random = DataFrame(randn(25).reshape(5,5),\n",
        "                      index=[1,2,3,4,5], columns=['a','b','c','d','e'])\n",
        "print(df_random)\n",
        "#reindexing rows and columns\n",
        "df_random1 = df_random.reindex([1,2,3,4,5,6],\n",
        "                               columns= ['a','b','c','d','e','f'],fill_value=1)\n",
        "print(df_random1) #prints the dataframe with new rows and columns and filled with 1\n",
        "#dropping values from rows and columns\n",
        "df_random2 = df_random1.drop(6)\n",
        "print(df_random2) #deletes the row with index 6\n",
        "#for columns the axis '1' must be specified\n",
        "df_random3 = df_random2.drop('f',axis=1) #deletes the column 'f'\n",
        "print(df_random3) #deletes the column with label 'f'\n"
      ],
      "execution_count": null,
      "outputs": []
    },
    {
      "cell_type": "code",
      "metadata": {
        "id": "w8P1YGkV9TVM",
        "colab_type": "code",
        "colab": {}
      },
      "source": [
        "#handling missing data\n",
        "df_dict2 = {'Name': ['James', 'Yemen', 'Caro', np.nan],\n",
        "           'Profession': ['Researcher', 'Artist', 'Doctor', 'Writer'],\n",
        "           'Experience': [12, np.nan, 10, 8],\n",
        "            'Sex': [np.nan,np.nan,np.nan,np.nan],\n",
        "           'Height': [np.nan, 175, 180, 150]}\n",
        "new_df = pd.DataFrame(df_dict2)\n",
        "print(new_df)\n",
        "print(new_df.isnull()) #retuns true or false for nan values\n",
        "print(new_df.dropna()) #drops all rows with nan values\n",
        "print(new_df.dropna(how='all',axis=1)) #drops only columns with all values nan \n",
        "print(new_df.dropna(thresh=3,axis=1)) #drops any columns without at least 3 values\n",
        "print(new_df.fillna({'Name': 'Tunde',\n",
        "           'Profession': 'lawyer',\n",
        "           'Experience': 1,\n",
        "            'Sex': 'Male',\n",
        "           'Height': 170})) #fills the nan with a dictionary\n"
      ],
      "execution_count": null,
      "outputs": []
    },
    {
      "cell_type": "code",
      "metadata": {
        "id": "zBnCKz7HyUWE",
        "colab_type": "code",
        "colab": {}
      },
      "source": [
        "\n"
      ],
      "execution_count": null,
      "outputs": []
    },
    {
      "cell_type": "code",
      "metadata": {
        "id": "xZQh_GeM4jSE",
        "colab_type": "code",
        "colab": {}
      },
      "source": [
        "df_dict4 = {'Country': ['Senegal', 'Kenya', 'Ethiopia', 'Togo'],\n",
        "           'Capital': ['Bamako', 'Nairobi', 'Addis Ababa', 'Lome'],\n",
        "           'Population': [8000, 8500, 35000, 12000],\n",
        "           'Age': [60, 70, 65,80]\n",
        "}\n",
        "df4 = pd.DataFrame(df_dict4, index=[2, 4, 6, 8])\n",
        "df4"
      ],
      "execution_count": null,
      "outputs": []
    },
    {
      "cell_type": "code",
      "metadata": {
        "id": "qV2Bn2df-wDf",
        "colab_type": "code",
        "colab": {
          "base_uri": "https://localhost:8080/",
          "height": 199
        },
        "outputId": "f3392a73-f4fa-48d5-99f4-494d8fdbabde"
      },
      "source": [
        "df_dict5 = {'Country': ['Senegal', np.nan, 'Ethiopia', 'Togo'],\n",
        "           'Capital': ['Bamako', 'Nairobi', 'Addis Ababa', np.nan],\n",
        "           'Population': [np.nan, 8500, np.nan, 12000],\n",
        "           'Age': [60, np.nan, 65,80]\n",
        "}\n",
        "df5 = pd.DataFrame(df_dict5, index=[2, 4, 6, 8])\n",
        "print(df5)\n",
        "\n",
        "# combining dataframes\n",
        "df6 = df5.combine_first(df4)\n",
        "print(df6) #prints the values of df5 with the nan values replaced from df4"
      ],
      "execution_count": 24,
      "outputs": [
        {
          "output_type": "stream",
          "text": [
            "    Country      Capital  Population   Age\n",
            "2   Senegal       Bamako         NaN  60.0\n",
            "4       NaN      Nairobi      8500.0   NaN\n",
            "6  Ethiopia  Addis Ababa         NaN  65.0\n",
            "8      Togo          NaN     12000.0  80.0\n",
            "    Country      Capital  Population   Age\n",
            "2   Senegal       Bamako      8000.0  60.0\n",
            "4     Kenya      Nairobi      8500.0  70.0\n",
            "6  Ethiopia  Addis Ababa     35000.0  65.0\n",
            "8      Togo         Lome     12000.0  80.0\n"
          ],
          "name": "stdout"
        }
      ]
    },
    {
      "cell_type": "code",
      "metadata": {
        "id": "S5wXwsY466os",
        "colab_type": "code",
        "colab": {}
      },
      "source": [
        "#merging dataframes\n",
        "merger = pd.merge(df,df4)\n",
        "merger #prints only columns that are the same in both dataframes"
      ],
      "execution_count": null,
      "outputs": []
    },
    {
      "cell_type": "code",
      "metadata": {
        "id": "qcWMjeCK5Bzg",
        "colab_type": "code",
        "colab": {}
      },
      "source": [
        "#merging dataframes based on a column\n",
        "merger2 = pd.merge(df,df4,on='Country') # how='inner' gives the same result\n",
        "merger2 #prints only columns with same 'country' the same in both dataframes"
      ],
      "execution_count": null,
      "outputs": []
    },
    {
      "cell_type": "code",
      "metadata": {
        "id": "VpfG9O2g9WPb",
        "colab_type": "code",
        "colab": {}
      },
      "source": [
        "merger3 = pd.merge(df,df4,on='Country',how='left')\n",
        "merger3 #prints the columns of the dataframe on the left and merges with the right"
      ],
      "execution_count": null,
      "outputs": []
    },
    {
      "cell_type": "code",
      "metadata": {
        "id": "GO9-7ZTj-0_C",
        "colab_type": "code",
        "colab": {}
      },
      "source": [
        "merger4 = pd.merge(df,df4,on='Country',how='outer',suffixes=('_first','_second'))\n",
        "merger4 #prints the columns of the dataframe listing all 'country' values"
      ],
      "execution_count": null,
      "outputs": []
    },
    {
      "cell_type": "code",
      "metadata": {
        "id": "k_VupPLUA5ll",
        "colab_type": "code",
        "colab": {}
      },
      "source": [
        "merger5 = pd.merge(df,df4,on='Country',how='outer',right_index=True)\n",
        "merger5 #references the index of the df on the right"
      ],
      "execution_count": null,
      "outputs": []
    },
    {
      "cell_type": "code",
      "metadata": {
        "id": "u1IHwmPtTPbC",
        "colab_type": "code",
        "colab": {}
      },
      "source": [
        "#concatenation entails combining all elements in the dataframes\n",
        "concat_1 = pd.concat([df,df4])\n",
        "print(concat_1) #prints the first dataframe then the second based on rows\n",
        "concat_2 = pd.concat([df,df4],axis=1)\n",
        "print(concat_2) #prints the first dataframe then the second based on columns\n",
        "concat_3 = pd.concat([df,df4],ignore_index=True)\n",
        "print(concat_3) #prints the new dataframe with new index"
      ],
      "execution_count": null,
      "outputs": []
    },
    {
      "cell_type": "code",
      "metadata": {
        "id": "UammIBRECP8N",
        "colab_type": "code",
        "colab": {}
      },
      "source": [
        "#join two dataframes, suffixes are important\n",
        "df.join(df4,lsuffix=\"_first\",rsuffix='_second') "
      ],
      "execution_count": null,
      "outputs": []
    },
    {
      "cell_type": "code",
      "metadata": {
        "id": "ZwNgtJbVR-0n",
        "colab_type": "code",
        "colab": {}
      },
      "source": [
        "#pandas statistics\n",
        "df['Population'].sum() #prints the sum of values in the population column\n",
        "print(df.mean()) #prints the mean of all the column with numbers\n",
        "print(df.max()) #prints the maximum number in every row with numbers\n",
        "print(df.min()) #prints the minimum values in every row with numbers \n",
        "print(df.cumsum()) #prints the cummulative sum at every row\n"
      ],
      "execution_count": null,
      "outputs": []
    },
    {
      "cell_type": "code",
      "metadata": {
        "id": "UJeuPQcBSEqL",
        "colab_type": "code",
        "colab": {
          "base_uri": "https://localhost:8080/",
          "height": 288
        },
        "outputId": "3c4daf16-de2c-4104-9d4b-8a1830cd3313"
      },
      "source": [
        "df.describe()  #details the max, min, count, mean, standard deviation of a dataframe"
      ],
      "execution_count": 30,
      "outputs": [
        {
          "output_type": "execute_result",
          "data": {
            "text/html": [
              "<div>\n",
              "<style scoped>\n",
              "    .dataframe tbody tr th:only-of-type {\n",
              "        vertical-align: middle;\n",
              "    }\n",
              "\n",
              "    .dataframe tbody tr th {\n",
              "        vertical-align: top;\n",
              "    }\n",
              "\n",
              "    .dataframe thead th {\n",
              "        text-align: right;\n",
              "    }\n",
              "</style>\n",
              "<table border=\"1\" class=\"dataframe\">\n",
              "  <thead>\n",
              "    <tr style=\"text-align: right;\">\n",
              "      <th></th>\n",
              "      <th>Population</th>\n",
              "      <th>Age</th>\n",
              "      <th>GDP</th>\n",
              "    </tr>\n",
              "  </thead>\n",
              "  <tbody>\n",
              "    <tr>\n",
              "      <th>count</th>\n",
              "      <td>4.000000</td>\n",
              "      <td>4.000000</td>\n",
              "      <td>4.000000</td>\n",
              "    </tr>\n",
              "    <tr>\n",
              "      <th>mean</th>\n",
              "      <td>16375.000000</td>\n",
              "      <td>71.250000</td>\n",
              "      <td>62.500000</td>\n",
              "    </tr>\n",
              "    <tr>\n",
              "      <th>std</th>\n",
              "      <td>12499.166639</td>\n",
              "      <td>8.539126</td>\n",
              "      <td>32.274861</td>\n",
              "    </tr>\n",
              "    <tr>\n",
              "      <th>min</th>\n",
              "      <td>8500.000000</td>\n",
              "      <td>60.000000</td>\n",
              "      <td>25.000000</td>\n",
              "    </tr>\n",
              "    <tr>\n",
              "      <th>25%</th>\n",
              "      <td>9625.000000</td>\n",
              "      <td>67.500000</td>\n",
              "      <td>43.750000</td>\n",
              "    </tr>\n",
              "    <tr>\n",
              "      <th>50%</th>\n",
              "      <td>11000.000000</td>\n",
              "      <td>72.500000</td>\n",
              "      <td>62.500000</td>\n",
              "    </tr>\n",
              "    <tr>\n",
              "      <th>75%</th>\n",
              "      <td>17750.000000</td>\n",
              "      <td>76.250000</td>\n",
              "      <td>81.250000</td>\n",
              "    </tr>\n",
              "    <tr>\n",
              "      <th>max</th>\n",
              "      <td>35000.000000</td>\n",
              "      <td>80.000000</td>\n",
              "      <td>100.000000</td>\n",
              "    </tr>\n",
              "  </tbody>\n",
              "</table>\n",
              "</div>"
            ],
            "text/plain": [
              "         Population        Age         GDP\n",
              "count      4.000000   4.000000    4.000000\n",
              "mean   16375.000000  71.250000   62.500000\n",
              "std    12499.166639   8.539126   32.274861\n",
              "min     8500.000000  60.000000   25.000000\n",
              "25%     9625.000000  67.500000   43.750000\n",
              "50%    11000.000000  72.500000   62.500000\n",
              "75%    17750.000000  76.250000   81.250000\n",
              "max    35000.000000  80.000000  100.000000"
            ]
          },
          "metadata": {
            "tags": []
          },
          "execution_count": 30
        }
      ]
    },
    {
      "cell_type": "code",
      "metadata": {
        "id": "TwTqeXCUBhbZ",
        "colab_type": "code",
        "colab": {}
      },
      "source": [
        "#reshaping dataframes to stack and unstack\n",
        "df7 = DataFrame(np.arange(8).reshape(2,4),\n",
        "                index=pd.Index(['uber','grab'],name='cabs'),\n",
        "                columns=pd.Index(['c1','c2','c3','c4'],name='attributes'))\n",
        "print(df7)\n",
        "df7.stack(dropna=False) #prints the stacked dataframe"
      ],
      "execution_count": null,
      "outputs": []
    },
    {
      "cell_type": "code",
      "metadata": {
        "id": "r_720em2Ehls",
        "colab_type": "code",
        "colab": {}
      },
      "source": [
        "#pivot table\n",
        "df_list = pd.read_html('https://en.wikipedia.org/wiki/Pivot_table')\n",
        "df8 = df_list[0]\n",
        "df8\n",
        "df8.pivot('Date of sale','Sales person','Total price')"
      ],
      "execution_count": null,
      "outputs": []
    },
    {
      "cell_type": "code",
      "metadata": {
        "id": "dy_A9ZQMO8dJ",
        "colab_type": "code",
        "colab": {
          "base_uri": "https://localhost:8080/",
          "height": 126
        },
        "outputId": "596dd255-f8c8-441a-b214-26c5d15a6dfd"
      },
      "source": [
        "#handling duplicates\n",
        "df9 = DataFrame({\n",
        "    'col1':['uber','uber','uber','uber','ola'],\n",
        "    'col2': [5,4,3,3,5]\n",
        "})\n",
        "print(df9)\n",
        "# print(df9.duplicated()) #prints the boolean of rows for duplicates\n",
        "# print(df9.drop_duplicates()) #deletes the duplicated rows\n",
        "# print(df9.drop_duplicates(['col1'])) #drops duplicates in the 'col1'\n",
        "# print(df9.drop_duplicates(['col2'],keep='last')) #deletes the duplicates leaving the last"
      ],
      "execution_count": 32,
      "outputs": [
        {
          "output_type": "stream",
          "text": [
            "   col1  col2\n",
            "0  uber     5\n",
            "1  uber     4\n",
            "2  uber     3\n",
            "3  uber     3\n",
            "4   ola     5\n"
          ],
          "name": "stdout"
        }
      ]
    },
    {
      "cell_type": "code",
      "metadata": {
        "id": "zqtnqqP2TkjF",
        "colab_type": "code",
        "colab": {
          "base_uri": "https://localhost:8080/",
          "height": 198
        },
        "outputId": "e78d2690-a64e-419e-8e45-f8c0796b0b6b"
      },
      "source": [
        "#mapping\n",
        "GDP = {'uber':20, 'uber':58, 'uber': 56, 'uber':25, 'ola':34}\n",
        "df9['GDP'] = df9['col1'].map(GDP)\n",
        "df9"
      ],
      "execution_count": 33,
      "outputs": [
        {
          "output_type": "execute_result",
          "data": {
            "text/html": [
              "<div>\n",
              "<style scoped>\n",
              "    .dataframe tbody tr th:only-of-type {\n",
              "        vertical-align: middle;\n",
              "    }\n",
              "\n",
              "    .dataframe tbody tr th {\n",
              "        vertical-align: top;\n",
              "    }\n",
              "\n",
              "    .dataframe thead th {\n",
              "        text-align: right;\n",
              "    }\n",
              "</style>\n",
              "<table border=\"1\" class=\"dataframe\">\n",
              "  <thead>\n",
              "    <tr style=\"text-align: right;\">\n",
              "      <th></th>\n",
              "      <th>col1</th>\n",
              "      <th>col2</th>\n",
              "      <th>GDP</th>\n",
              "    </tr>\n",
              "  </thead>\n",
              "  <tbody>\n",
              "    <tr>\n",
              "      <th>0</th>\n",
              "      <td>uber</td>\n",
              "      <td>5</td>\n",
              "      <td>25</td>\n",
              "    </tr>\n",
              "    <tr>\n",
              "      <th>1</th>\n",
              "      <td>uber</td>\n",
              "      <td>4</td>\n",
              "      <td>25</td>\n",
              "    </tr>\n",
              "    <tr>\n",
              "      <th>2</th>\n",
              "      <td>uber</td>\n",
              "      <td>3</td>\n",
              "      <td>25</td>\n",
              "    </tr>\n",
              "    <tr>\n",
              "      <th>3</th>\n",
              "      <td>uber</td>\n",
              "      <td>3</td>\n",
              "      <td>25</td>\n",
              "    </tr>\n",
              "    <tr>\n",
              "      <th>4</th>\n",
              "      <td>ola</td>\n",
              "      <td>5</td>\n",
              "      <td>34</td>\n",
              "    </tr>\n",
              "  </tbody>\n",
              "</table>\n",
              "</div>"
            ],
            "text/plain": [
              "   col1  col2  GDP\n",
              "0  uber     5   25\n",
              "1  uber     4   25\n",
              "2  uber     3   25\n",
              "3  uber     3   25\n",
              "4   ola     5   34"
            ]
          },
          "metadata": {
            "tags": []
          },
          "execution_count": 33
        }
      ]
    },
    {
      "cell_type": "code",
      "metadata": {
        "id": "r8UwK0ZdRtjv",
        "colab_type": "code",
        "colab": {}
      },
      "source": [
        ""
      ],
      "execution_count": null,
      "outputs": []
    }
  ]
}