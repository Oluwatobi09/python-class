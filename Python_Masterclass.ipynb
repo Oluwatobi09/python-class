{
  "nbformat": 4,
  "nbformat_minor": 0,
  "metadata": {
    "colab": {
      "name": "Python Masterclass.ipynb",
      "provenance": [],
      "collapsed_sections": [],
      "authorship_tag": "ABX9TyOqXqmDVHqoN6/sj/ZlO6cn",
      "include_colab_link": true
    },
    "kernelspec": {
      "name": "python3",
      "display_name": "Python 3"
    }
  },
  "cells": [
    {
      "cell_type": "markdown",
      "metadata": {
        "id": "view-in-github",
        "colab_type": "text"
      },
      "source": [
        "<a href=\"https://colab.research.google.com/github/Oluwatobi09/python-class/blob/master/Python_Masterclass.ipynb\" target=\"_parent\"><img src=\"https://colab.research.google.com/assets/colab-badge.svg\" alt=\"Open In Colab\"/></a>"
      ]
    },
    {
      "cell_type": "code",
      "metadata": {
        "id": "y3MIBPnu1_jy",
        "colab_type": "code",
        "colab": {}
      },
      "source": [
        "#Welcome to python class"
      ],
      "execution_count": null,
      "outputs": []
    },
    {
      "cell_type": "code",
      "metadata": {
        "id": "2qgKnR1V4lOc",
        "colab_type": "code",
        "colab": {
          "base_uri": "https://localhost:8080/",
          "height": 34
        },
        "outputId": "7deeceb9-478d-43e2-91b5-d5140c3785bb"
      },
      "source": [
        "1+1"
      ],
      "execution_count": null,
      "outputs": [
        {
          "output_type": "execute_result",
          "data": {
            "text/plain": [
              "2"
            ]
          },
          "metadata": {
            "tags": []
          },
          "execution_count": 2
        }
      ]
    },
    {
      "cell_type": "code",
      "metadata": {
        "id": "bZkrnZgL50Kf",
        "colab_type": "code",
        "colab": {}
      },
      "source": [
        ""
      ],
      "execution_count": null,
      "outputs": []
    },
    {
      "cell_type": "markdown",
      "metadata": {
        "id": "8D0CHiDG5157",
        "colab_type": "text"
      },
      "source": [
        "Python Masterclass\n",
        "Operators: +,-,*,/\n"
      ]
    },
    {
      "cell_type": "code",
      "metadata": {
        "id": "G35vYthK80-E",
        "colab_type": "code",
        "colab": {}
      },
      "source": [
        "#libraries: Numpy: Numerical Python\n",
        "          #Pandas: Data Wrangling(cleaning)"
      ],
      "execution_count": null,
      "outputs": []
    },
    {
      "cell_type": "code",
      "metadata": {
        "id": "G65PBfte9S3D",
        "colab_type": "code",
        "colab": {}
      },
      "source": [
        "import numpy as np\n",
        "import numpy as py\n"
      ],
      "execution_count": null,
      "outputs": []
    },
    {
      "cell_type": "code",
      "metadata": {
        "id": "WxuSdnd2-dVN",
        "colab_type": "code",
        "colab": {}
      },
      "source": [
        "#To assign we use \"=\""
      ],
      "execution_count": null,
      "outputs": []
    },
    {
      "cell_type": "code",
      "metadata": {
        "id": "ByRfRUk--lLc",
        "colab_type": "code",
        "colab": {}
      },
      "source": [
        "x =1\n",
        "y =2\n",
        "z = 3\n",
        "#use all these as operators"
      ],
      "execution_count": null,
      "outputs": []
    },
    {
      "cell_type": "code",
      "metadata": {
        "id": "7-KANgjr-9is",
        "colab_type": "code",
        "colab": {
          "base_uri": "https://localhost:8080/",
          "height": 34
        },
        "outputId": "d88ab594-1ab2-4ef5-cdf9-c156a222ce01"
      },
      "source": [
        "x+y"
      ],
      "execution_count": null,
      "outputs": [
        {
          "output_type": "execute_result",
          "data": {
            "text/plain": [
              "3"
            ]
          },
          "metadata": {
            "tags": []
          },
          "execution_count": 6
        }
      ]
    },
    {
      "cell_type": "code",
      "metadata": {
        "id": "jX_OJT2U_CoX",
        "colab_type": "code",
        "colab": {}
      },
      "source": [
        "#x, y and z are variables\n",
        "Jypyter Notebook is case sensitive\n",
        "\n",
        "X =/= x\n",
        "equals to =="
      ],
      "execution_count": null,
      "outputs": []
    },
    {
      "cell_type": "markdown",
      "metadata": {
        "id": "SWbv3lvkBjYa",
        "colab_type": "text"
      },
      "source": [
        "String \"Hello World\"\n",
        "\"Apples\"\n",
        "\n",
        "Integers are whole numbers eg. 50\n",
        "\n",
        "Floats are numbers with decimals eg. 50.5\n",
        "\n",
        "# lists\n",
        "x = (\"apple\",\"banana\",\"cherry\")\n",
        "A list makes use of a parentheses ()\n",
        "\n",
        "Square bracket[]\n",
        "\n"
      ]
    },
    {
      "cell_type": "code",
      "metadata": {
        "id": "ZOe3zQX8Cuxo",
        "colab_type": "code",
        "colab": {
          "base_uri": "https://localhost:8080/",
          "height": 34
        },
        "outputId": "807450f6-1639-4d82-b8c1-22b9892e666a"
      },
      "source": [
        "\"Tobi\""
      ],
      "execution_count": null,
      "outputs": [
        {
          "output_type": "execute_result",
          "data": {
            "text/plain": [
              "'Tobi'"
            ]
          },
          "metadata": {
            "tags": []
          },
          "execution_count": 7
        }
      ]
    },
    {
      "cell_type": "code",
      "metadata": {
        "id": "iGEEAD-Y6zjM",
        "colab_type": "code",
        "colab": {}
      },
      "source": [
        ""
      ],
      "execution_count": null,
      "outputs": []
    },
    {
      "cell_type": "code",
      "metadata": {
        "id": "nV_JdogiFYlS",
        "colab_type": "code",
        "colab": {}
      },
      "source": [
        "x =\"100\""
      ],
      "execution_count": null,
      "outputs": []
    },
    {
      "cell_type": "code",
      "metadata": {
        "id": "LSbjrjEkFddy",
        "colab_type": "code",
        "colab": {
          "base_uri": "https://localhost:8080/",
          "height": 34
        },
        "outputId": "c65d112d-6174-4d00-c6ad-aeceedaee7d7"
      },
      "source": [
        "print(x)"
      ],
      "execution_count": null,
      "outputs": [
        {
          "output_type": "stream",
          "text": [
            "100\n"
          ],
          "name": "stdout"
        }
      ]
    },
    {
      "cell_type": "code",
      "metadata": {
        "id": "t-7S-g16G_1o",
        "colab_type": "code",
        "colab": {}
      },
      "source": [
        "y = (\"apple\",\"mango\")"
      ],
      "execution_count": null,
      "outputs": []
    },
    {
      "cell_type": "code",
      "metadata": {
        "id": "V8pO1P9jHJGg",
        "colab_type": "code",
        "colab": {
          "base_uri": "https://localhost:8080/",
          "height": 34
        },
        "outputId": "189b944f-6dd8-4b98-c2c1-d38e32bafe94"
      },
      "source": [
        "print (y)"
      ],
      "execution_count": null,
      "outputs": [
        {
          "output_type": "stream",
          "text": [
            "('apple', 'mango')\n"
          ],
          "name": "stdout"
        }
      ]
    },
    {
      "cell_type": "code",
      "metadata": {
        "id": "tMuWN_LyH2aG",
        "colab_type": "code",
        "colab": {}
      },
      "source": [
        "Y = [\"A\",\"B\"]"
      ],
      "execution_count": null,
      "outputs": []
    },
    {
      "cell_type": "code",
      "metadata": {
        "id": "WHwCFgj4IA4F",
        "colab_type": "code",
        "colab": {
          "base_uri": "https://localhost:8080/",
          "height": 34
        },
        "outputId": "219c3ea0-b36d-4bf1-d484-1e110b25b4f8"
      },
      "source": [
        "print(Y)"
      ],
      "execution_count": null,
      "outputs": [
        {
          "output_type": "stream",
          "text": [
            "['A', 'B']\n"
          ],
          "name": "stdout"
        }
      ]
    },
    {
      "cell_type": "markdown",
      "metadata": {
        "id": "EZQYEmQ8Jpnn",
        "colab_type": "text"
      },
      "source": [
        "#Tuples\n",
        "x = {\"apple\",\"banana\",\"cherry\"}\n",
        "\n",
        "#Dictionaries\n",
        "x = {\"name: \"Tobi\", \"state\" : \"Oyo\"}"
      ]
    },
    {
      "cell_type": "markdown",
      "metadata": {
        "id": "FrwZ3iGhMB3d",
        "colab_type": "text"
      },
      "source": [
        "#lists\n",
        "EX = [\"A\",\"B\",\"C\",\"D\",\"E\",\"F\",\"G\",\"H\",\"I\",\"J\",\"K\"]"
      ]
    },
    {
      "cell_type": "code",
      "metadata": {
        "id": "W7WyllhsM5yP",
        "colab_type": "code",
        "colab": {}
      },
      "source": [
        "#lists\n",
        "EX = [\"A\",\"B\",\"C\",\"D\",\"E\",\"F\",\"G\",\"H\",\"I\",\"J\",\"K\"]"
      ],
      "execution_count": null,
      "outputs": []
    },
    {
      "cell_type": "code",
      "metadata": {
        "id": "xiqvqCuGM_fD",
        "colab_type": "code",
        "colab": {
          "base_uri": "https://localhost:8080/",
          "height": 34
        },
        "outputId": "2e98176b-2dc7-44dc-a502-f76b3c9db8d6"
      },
      "source": [
        "print(EX)"
      ],
      "execution_count": null,
      "outputs": [
        {
          "output_type": "stream",
          "text": [
            "['A', 'B', 'C', 'D', 'E', 'F', 'G', 'H', 'I', 'J', 'K']\n"
          ],
          "name": "stdout"
        }
      ]
    },
    {
      "cell_type": "code",
      "metadata": {
        "id": "c2eigqvdOIhd",
        "colab_type": "code",
        "colab": {
          "base_uri": "https://localhost:8080/",
          "height": 34
        },
        "outputId": "affcd18d-3731-4bb3-ee8f-f315e37899f4"
      },
      "source": [
        "EX[0]"
      ],
      "execution_count": null,
      "outputs": [
        {
          "output_type": "execute_result",
          "data": {
            "text/plain": [
              "'A'"
            ]
          },
          "metadata": {
            "tags": []
          },
          "execution_count": 18
        }
      ]
    },
    {
      "cell_type": "code",
      "metadata": {
        "id": "jwYrR_X6XfN9",
        "colab_type": "code",
        "colab": {}
      },
      "source": [
        ""
      ],
      "execution_count": null,
      "outputs": []
    },
    {
      "cell_type": "code",
      "metadata": {
        "id": "7GuJ4N1-Ok4q",
        "colab_type": "code",
        "colab": {
          "base_uri": "https://localhost:8080/",
          "height": 34
        },
        "outputId": "6a991f92-1f36-4473-ea38-6e9c7dc1574f"
      },
      "source": [
        "EX[3:5]"
      ],
      "execution_count": null,
      "outputs": [
        {
          "output_type": "execute_result",
          "data": {
            "text/plain": [
              "['D', 'E']"
            ]
          },
          "metadata": {
            "tags": []
          },
          "execution_count": 20
        }
      ]
    },
    {
      "cell_type": "code",
      "metadata": {
        "id": "tT0k41JWO1Of",
        "colab_type": "code",
        "colab": {
          "base_uri": "https://localhost:8080/",
          "height": 34
        },
        "outputId": "84d753b3-1255-4d02-a5b0-ed9d4ec45421"
      },
      "source": [
        "EX[2:6]"
      ],
      "execution_count": null,
      "outputs": [
        {
          "output_type": "execute_result",
          "data": {
            "text/plain": [
              "['C', 'D', 'E', 'F']"
            ]
          },
          "metadata": {
            "tags": []
          },
          "execution_count": 21
        }
      ]
    },
    {
      "cell_type": "code",
      "metadata": {
        "id": "Qxj_0zadaoxg",
        "colab_type": "code",
        "colab": {
          "base_uri": "https://localhost:8080/",
          "height": 34
        },
        "outputId": "ac799ec7-6335-430b-a27b-a0b066bbe0dd"
      },
      "source": [
        "EX[:6]"
      ],
      "execution_count": null,
      "outputs": [
        {
          "output_type": "execute_result",
          "data": {
            "text/plain": [
              "['A', 'B', 'C', 'D', 'E', 'F']"
            ]
          },
          "metadata": {
            "tags": []
          },
          "execution_count": 22
        }
      ]
    },
    {
      "cell_type": "code",
      "metadata": {
        "id": "DZ6nQ07chn6z",
        "colab_type": "code",
        "colab": {}
      },
      "source": [
        "import numpy as np\n",
        "import pandas as pd\n"
      ],
      "execution_count": null,
      "outputs": []
    },
    {
      "cell_type": "code",
      "metadata": {
        "id": "GrXQ5Xn5klIF",
        "colab_type": "code",
        "colab": {
          "base_uri": "https://localhost:8080/",
          "height": 572
        },
        "outputId": "5d8ff5b0-e9f8-48da-c33c-54a370b573c6"
      },
      "source": [
        "pd.read_csv(\"/content/Laptop Sales.csv\")"
      ],
      "execution_count": null,
      "outputs": [
        {
          "output_type": "execute_result",
          "data": {
            "text/html": [
              "<div>\n",
              "<style scoped>\n",
              "    .dataframe tbody tr th:only-of-type {\n",
              "        vertical-align: middle;\n",
              "    }\n",
              "\n",
              "    .dataframe tbody tr th {\n",
              "        vertical-align: top;\n",
              "    }\n",
              "\n",
              "    .dataframe thead th {\n",
              "        text-align: right;\n",
              "    }\n",
              "</style>\n",
              "<table border=\"1\" class=\"dataframe\">\n",
              "  <thead>\n",
              "    <tr style=\"text-align: right;\">\n",
              "      <th></th>\n",
              "      <th>Transaction_date</th>\n",
              "      <th>Product</th>\n",
              "      <th>Price</th>\n",
              "      <th>Payment_Type</th>\n",
              "      <th>Name</th>\n",
              "      <th>City</th>\n",
              "      <th>State</th>\n",
              "      <th>Country</th>\n",
              "      <th>Account_Created</th>\n",
              "      <th>Last_Login</th>\n",
              "      <th>Latitude</th>\n",
              "      <th>Longitude</th>\n",
              "    </tr>\n",
              "  </thead>\n",
              "  <tbody>\n",
              "    <tr>\n",
              "      <th>0</th>\n",
              "      <td>1/2/09 6:17</td>\n",
              "      <td>Silver Laptop</td>\n",
              "      <td>1200</td>\n",
              "      <td>Mastercard</td>\n",
              "      <td>carolina</td>\n",
              "      <td>Basildon</td>\n",
              "      <td>England</td>\n",
              "      <td>United Kingdom</td>\n",
              "      <td>1/2/09 6:00</td>\n",
              "      <td>1/2/09 6:08</td>\n",
              "      <td>51.500000</td>\n",
              "      <td>-1.116667</td>\n",
              "    </tr>\n",
              "    <tr>\n",
              "      <th>1</th>\n",
              "      <td>1/2/09 4:53</td>\n",
              "      <td>Silver Laptop</td>\n",
              "      <td>1200</td>\n",
              "      <td>Visa</td>\n",
              "      <td>Betina</td>\n",
              "      <td>Parkville</td>\n",
              "      <td>MO</td>\n",
              "      <td>United States</td>\n",
              "      <td>1/2/09 4:42</td>\n",
              "      <td>1/2/09 7:49</td>\n",
              "      <td>39.195000</td>\n",
              "      <td>-94.681940</td>\n",
              "    </tr>\n",
              "    <tr>\n",
              "      <th>2</th>\n",
              "      <td>1/2/09 13:08</td>\n",
              "      <td>Silver Laptop</td>\n",
              "      <td>1200</td>\n",
              "      <td>Mastercard</td>\n",
              "      <td>Federica e Andrea</td>\n",
              "      <td>Astoria</td>\n",
              "      <td>OR</td>\n",
              "      <td>United States</td>\n",
              "      <td>1/1/09 16:21</td>\n",
              "      <td>1/3/09 12:32</td>\n",
              "      <td>46.188060</td>\n",
              "      <td>-123.830000</td>\n",
              "    </tr>\n",
              "    <tr>\n",
              "      <th>3</th>\n",
              "      <td>1/3/09 14:44</td>\n",
              "      <td>Silver Laptop</td>\n",
              "      <td>1200</td>\n",
              "      <td>Visa</td>\n",
              "      <td>Gouya</td>\n",
              "      <td>Echuca</td>\n",
              "      <td>Victoria</td>\n",
              "      <td>Australia</td>\n",
              "      <td>9/25/05 21:13</td>\n",
              "      <td>1/3/09 14:22</td>\n",
              "      <td>-36.133333</td>\n",
              "      <td>144.750000</td>\n",
              "    </tr>\n",
              "    <tr>\n",
              "      <th>4</th>\n",
              "      <td>1/4/09 12:56</td>\n",
              "      <td>Gold Laptop</td>\n",
              "      <td>3600</td>\n",
              "      <td>Visa</td>\n",
              "      <td>Gerd W</td>\n",
              "      <td>Cahaba Heights</td>\n",
              "      <td>AL</td>\n",
              "      <td>United States</td>\n",
              "      <td>11/15/08 15:47</td>\n",
              "      <td>1/4/09 12:45</td>\n",
              "      <td>33.520560</td>\n",
              "      <td>-86.802500</td>\n",
              "    </tr>\n",
              "    <tr>\n",
              "      <th>...</th>\n",
              "      <td>...</td>\n",
              "      <td>...</td>\n",
              "      <td>...</td>\n",
              "      <td>...</td>\n",
              "      <td>...</td>\n",
              "      <td>...</td>\n",
              "      <td>...</td>\n",
              "      <td>...</td>\n",
              "      <td>...</td>\n",
              "      <td>...</td>\n",
              "      <td>...</td>\n",
              "      <td>...</td>\n",
              "    </tr>\n",
              "    <tr>\n",
              "      <th>993</th>\n",
              "      <td>1/22/09 14:25</td>\n",
              "      <td>Silver Laptop</td>\n",
              "      <td>1200</td>\n",
              "      <td>Visa</td>\n",
              "      <td>Hans-Joerg</td>\n",
              "      <td>Belfast</td>\n",
              "      <td>Northern Ireland</td>\n",
              "      <td>United Kingdom</td>\n",
              "      <td>11/10/08 12:15</td>\n",
              "      <td>3/1/09 3:37</td>\n",
              "      <td>54.583333</td>\n",
              "      <td>-5.933333</td>\n",
              "    </tr>\n",
              "    <tr>\n",
              "      <th>994</th>\n",
              "      <td>1/28/09 5:36</td>\n",
              "      <td>Gold Laptop</td>\n",
              "      <td>3600</td>\n",
              "      <td>Visa</td>\n",
              "      <td>Christiane</td>\n",
              "      <td>Black River</td>\n",
              "      <td>Black River</td>\n",
              "      <td>Mauritius</td>\n",
              "      <td>1/9/09 8:10</td>\n",
              "      <td>3/1/09 4:40</td>\n",
              "      <td>-20.360278</td>\n",
              "      <td>57.366111</td>\n",
              "    </tr>\n",
              "    <tr>\n",
              "      <th>995</th>\n",
              "      <td>1/1/09 4:24</td>\n",
              "      <td>Platinum Laptop</td>\n",
              "      <td>7500</td>\n",
              "      <td>Amex</td>\n",
              "      <td>Pamela</td>\n",
              "      <td>Skaneateles</td>\n",
              "      <td>NY</td>\n",
              "      <td>United States</td>\n",
              "      <td>12/28/08 17:28</td>\n",
              "      <td>3/1/09 7:21</td>\n",
              "      <td>42.946940</td>\n",
              "      <td>-76.429440</td>\n",
              "    </tr>\n",
              "    <tr>\n",
              "      <th>996</th>\n",
              "      <td>1/8/09 11:55</td>\n",
              "      <td>Silver Laptop</td>\n",
              "      <td>1200</td>\n",
              "      <td>Diners</td>\n",
              "      <td>julie</td>\n",
              "      <td>Haverhill</td>\n",
              "      <td>England</td>\n",
              "      <td>United Kingdom</td>\n",
              "      <td>11/29/06 13:31</td>\n",
              "      <td>3/1/09 7:28</td>\n",
              "      <td>52.083333</td>\n",
              "      <td>0.433333</td>\n",
              "    </tr>\n",
              "    <tr>\n",
              "      <th>997</th>\n",
              "      <td>1/12/09 21:30</td>\n",
              "      <td>Silver Laptop</td>\n",
              "      <td>1200</td>\n",
              "      <td>Visa</td>\n",
              "      <td>Julia</td>\n",
              "      <td>Madison</td>\n",
              "      <td>WI</td>\n",
              "      <td>United States</td>\n",
              "      <td>11/17/08 22:24</td>\n",
              "      <td>3/1/09 10:14</td>\n",
              "      <td>43.073060</td>\n",
              "      <td>-89.401110</td>\n",
              "    </tr>\n",
              "  </tbody>\n",
              "</table>\n",
              "<p>998 rows × 12 columns</p>\n",
              "</div>"
            ],
            "text/plain": [
              "    Transaction_date          Product  ...   Latitude   Longitude\n",
              "0        1/2/09 6:17    Silver Laptop  ...  51.500000   -1.116667\n",
              "1        1/2/09 4:53    Silver Laptop  ...  39.195000  -94.681940\n",
              "2       1/2/09 13:08    Silver Laptop  ...  46.188060 -123.830000\n",
              "3       1/3/09 14:44    Silver Laptop  ... -36.133333  144.750000\n",
              "4       1/4/09 12:56      Gold Laptop  ...  33.520560  -86.802500\n",
              "..               ...              ...  ...        ...         ...\n",
              "993    1/22/09 14:25    Silver Laptop  ...  54.583333   -5.933333\n",
              "994     1/28/09 5:36      Gold Laptop  ... -20.360278   57.366111\n",
              "995      1/1/09 4:24  Platinum Laptop  ...  42.946940  -76.429440\n",
              "996     1/8/09 11:55    Silver Laptop  ...  52.083333    0.433333\n",
              "997    1/12/09 21:30    Silver Laptop  ...  43.073060  -89.401110\n",
              "\n",
              "[998 rows x 12 columns]"
            ]
          },
          "metadata": {
            "tags": []
          },
          "execution_count": 3
        }
      ]
    },
    {
      "cell_type": "code",
      "metadata": {
        "id": "BvuzmOuVm-jT",
        "colab_type": "code",
        "colab": {}
      },
      "source": [
        "k = pd.read_csv(\"/content/Laptop Sales.csv\")"
      ],
      "execution_count": null,
      "outputs": []
    },
    {
      "cell_type": "code",
      "metadata": {
        "id": "rktoTS6fnvDB",
        "colab_type": "code",
        "colab": {}
      },
      "source": [
        "#EDA: Exploratory Data Analysis"
      ],
      "execution_count": null,
      "outputs": []
    },
    {
      "cell_type": "code",
      "metadata": {
        "id": "d5as2SGnnNRm",
        "colab_type": "code",
        "colab": {
          "base_uri": "https://localhost:8080/",
          "height": 238
        },
        "outputId": "cb47ccec-8ccc-4dcf-ecec-f97ddb57f6aa"
      },
      "source": [
        "k.dtypes"
      ],
      "execution_count": null,
      "outputs": [
        {
          "output_type": "execute_result",
          "data": {
            "text/plain": [
              "Transaction_date     object\n",
              "Product              object\n",
              "Price                object\n",
              "Payment_Type         object\n",
              "Name                 object\n",
              "City                 object\n",
              "State                object\n",
              "Country              object\n",
              "Account_Created      object\n",
              "Last_Login           object\n",
              "Latitude            float64\n",
              "Longitude           float64\n",
              "dtype: object"
            ]
          },
          "metadata": {
            "tags": []
          },
          "execution_count": 12
        }
      ]
    },
    {
      "cell_type": "code",
      "metadata": {
        "id": "Jp8J3jmOpfYG",
        "colab_type": "code",
        "colab": {
          "base_uri": "https://localhost:8080/",
          "height": 255
        },
        "outputId": "6892ab9a-13da-42ee-c4df-5b54b94b64e0"
      },
      "source": [
        "k.mean"
      ],
      "execution_count": null,
      "outputs": [
        {
          "output_type": "execute_result",
          "data": {
            "text/plain": [
              "<bound method DataFrame.mean of     Transaction_date          Product  ...   Latitude   Longitude\n",
              "0        1/2/09 6:17    Silver Laptop  ...  51.500000   -1.116667\n",
              "1        1/2/09 4:53    Silver Laptop  ...  39.195000  -94.681940\n",
              "2       1/2/09 13:08    Silver Laptop  ...  46.188060 -123.830000\n",
              "3       1/3/09 14:44    Silver Laptop  ... -36.133333  144.750000\n",
              "4       1/4/09 12:56      Gold Laptop  ...  33.520560  -86.802500\n",
              "..               ...              ...  ...        ...         ...\n",
              "993    1/22/09 14:25    Silver Laptop  ...  54.583333   -5.933333\n",
              "994     1/28/09 5:36      Gold Laptop  ... -20.360278   57.366111\n",
              "995      1/1/09 4:24  Platinum Laptop  ...  42.946940  -76.429440\n",
              "996     1/8/09 11:55    Silver Laptop  ...  52.083333    0.433333\n",
              "997    1/12/09 21:30    Silver Laptop  ...  43.073060  -89.401110\n",
              "\n",
              "[998 rows x 12 columns]>"
            ]
          },
          "metadata": {
            "tags": []
          },
          "execution_count": 29
        }
      ]
    },
    {
      "cell_type": "code",
      "metadata": {
        "id": "GI137anbpuHS",
        "colab_type": "code",
        "colab": {
          "base_uri": "https://localhost:8080/",
          "height": 255
        },
        "outputId": "cbab0929-2cab-4ef3-9d25-c5134b9c5d7d"
      },
      "source": [
        "k.max"
      ],
      "execution_count": null,
      "outputs": [
        {
          "output_type": "execute_result",
          "data": {
            "text/plain": [
              "<bound method DataFrame.max of     Transaction_date          Product  ...   Latitude   Longitude\n",
              "0        1/2/09 6:17    Silver Laptop  ...  51.500000   -1.116667\n",
              "1        1/2/09 4:53    Silver Laptop  ...  39.195000  -94.681940\n",
              "2       1/2/09 13:08    Silver Laptop  ...  46.188060 -123.830000\n",
              "3       1/3/09 14:44    Silver Laptop  ... -36.133333  144.750000\n",
              "4       1/4/09 12:56      Gold Laptop  ...  33.520560  -86.802500\n",
              "..               ...              ...  ...        ...         ...\n",
              "993    1/22/09 14:25    Silver Laptop  ...  54.583333   -5.933333\n",
              "994     1/28/09 5:36      Gold Laptop  ... -20.360278   57.366111\n",
              "995      1/1/09 4:24  Platinum Laptop  ...  42.946940  -76.429440\n",
              "996     1/8/09 11:55    Silver Laptop  ...  52.083333    0.433333\n",
              "997    1/12/09 21:30    Silver Laptop  ...  43.073060  -89.401110\n",
              "\n",
              "[998 rows x 12 columns]>"
            ]
          },
          "metadata": {
            "tags": []
          },
          "execution_count": 30
        }
      ]
    },
    {
      "cell_type": "code",
      "metadata": {
        "id": "DZdsNucBpxmn",
        "colab_type": "code",
        "colab": {
          "base_uri": "https://localhost:8080/",
          "height": 255
        },
        "outputId": "8c71f2b0-7623-41d8-c954-098136f42cde"
      },
      "source": [
        "k.abs"
      ],
      "execution_count": null,
      "outputs": [
        {
          "output_type": "execute_result",
          "data": {
            "text/plain": [
              "<bound method NDFrame.abs of     Transaction_date          Product  ...   Latitude   Longitude\n",
              "0        1/2/09 6:17    Silver Laptop  ...  51.500000   -1.116667\n",
              "1        1/2/09 4:53    Silver Laptop  ...  39.195000  -94.681940\n",
              "2       1/2/09 13:08    Silver Laptop  ...  46.188060 -123.830000\n",
              "3       1/3/09 14:44    Silver Laptop  ... -36.133333  144.750000\n",
              "4       1/4/09 12:56      Gold Laptop  ...  33.520560  -86.802500\n",
              "..               ...              ...  ...        ...         ...\n",
              "993    1/22/09 14:25    Silver Laptop  ...  54.583333   -5.933333\n",
              "994     1/28/09 5:36      Gold Laptop  ... -20.360278   57.366111\n",
              "995      1/1/09 4:24  Platinum Laptop  ...  42.946940  -76.429440\n",
              "996     1/8/09 11:55    Silver Laptop  ...  52.083333    0.433333\n",
              "997    1/12/09 21:30    Silver Laptop  ...  43.073060  -89.401110\n",
              "\n",
              "[998 rows x 12 columns]>"
            ]
          },
          "metadata": {
            "tags": []
          },
          "execution_count": 31
        }
      ]
    },
    {
      "cell_type": "code",
      "metadata": {
        "id": "3GWwVfKhqrgY",
        "colab_type": "code",
        "colab": {
          "base_uri": "https://localhost:8080/",
          "height": 68
        },
        "outputId": "e695b8c1-b2c6-4b26-f843-5dca156bf1bc"
      },
      "source": [
        "k.mean()"
      ],
      "execution_count": null,
      "outputs": [
        {
          "output_type": "execute_result",
          "data": {
            "text/plain": [
              "Latitude     39.015705\n",
              "Longitude   -41.337820\n",
              "dtype: float64"
            ]
          },
          "metadata": {
            "tags": []
          },
          "execution_count": 33
        }
      ]
    },
    {
      "cell_type": "code",
      "metadata": {
        "id": "Q3YFfZMgp1Uo",
        "colab_type": "code",
        "colab": {
          "base_uri": "https://localhost:8080/",
          "height": 255
        },
        "outputId": "c1f4fa9f-263c-44a0-91e9-c7b592354880"
      },
      "source": [
        "k.min"
      ],
      "execution_count": null,
      "outputs": [
        {
          "output_type": "execute_result",
          "data": {
            "text/plain": [
              "<bound method DataFrame.min of     Transaction_date          Product  ...   Latitude   Longitude\n",
              "0        1/2/09 6:17    Silver Laptop  ...  51.500000   -1.116667\n",
              "1        1/2/09 4:53    Silver Laptop  ...  39.195000  -94.681940\n",
              "2       1/2/09 13:08    Silver Laptop  ...  46.188060 -123.830000\n",
              "3       1/3/09 14:44    Silver Laptop  ... -36.133333  144.750000\n",
              "4       1/4/09 12:56      Gold Laptop  ...  33.520560  -86.802500\n",
              "..               ...              ...  ...        ...         ...\n",
              "993    1/22/09 14:25    Silver Laptop  ...  54.583333   -5.933333\n",
              "994     1/28/09 5:36      Gold Laptop  ... -20.360278   57.366111\n",
              "995      1/1/09 4:24  Platinum Laptop  ...  42.946940  -76.429440\n",
              "996     1/8/09 11:55    Silver Laptop  ...  52.083333    0.433333\n",
              "997    1/12/09 21:30    Silver Laptop  ...  43.073060  -89.401110\n",
              "\n",
              "[998 rows x 12 columns]>"
            ]
          },
          "metadata": {
            "tags": []
          },
          "execution_count": 32
        }
      ]
    },
    {
      "cell_type": "code",
      "metadata": {
        "id": "hSCzzjY7r5Oy",
        "colab_type": "code",
        "colab": {
          "base_uri": "https://localhost:8080/",
          "height": 221
        },
        "outputId": "17ae13e5-d2d5-484f-9e86-428b8df73492"
      },
      "source": [
        "k.min()"
      ],
      "execution_count": null,
      "outputs": [
        {
          "output_type": "execute_result",
          "data": {
            "text/plain": [
              "Transaction_date     1/1/09 10:06\n",
              "Product               Gold Laptop\n",
              "Price                        1200\n",
              "Payment_Type                 Amex\n",
              "Name                            A\n",
              "City                       Aardal\n",
              "Country                 Argentina\n",
              "Account_Created       1/1/05 6:03\n",
              "Last_Login          1/10/09 13:16\n",
              "Latitude                  -41.465\n",
              "Longitude                -159.485\n",
              "dtype: object"
            ]
          },
          "metadata": {
            "tags": []
          },
          "execution_count": 35
        }
      ]
    },
    {
      "cell_type": "code",
      "metadata": {
        "id": "OZ2SN_94sRT2",
        "colab_type": "code",
        "colab": {
          "base_uri": "https://localhost:8080/",
          "height": 119
        },
        "outputId": "3e7472b3-2613-49c8-8ace-5ecbe01b2742"
      },
      "source": [
        "k.Price[:5]"
      ],
      "execution_count": null,
      "outputs": [
        {
          "output_type": "execute_result",
          "data": {
            "text/plain": [
              "0    1200\n",
              "1    1200\n",
              "2    1200\n",
              "3    1200\n",
              "4    3600\n",
              "Name: Price, dtype: object"
            ]
          },
          "metadata": {
            "tags": []
          },
          "execution_count": 44
        }
      ]
    },
    {
      "cell_type": "code",
      "metadata": {
        "id": "YitXRIKRYx0D",
        "colab_type": "code",
        "colab": {}
      },
      "source": [
        "k[\"Price\"] = pd.to_numeric(k.Price, errors=\"coerce\")"
      ],
      "execution_count": null,
      "outputs": []
    },
    {
      "cell_type": "code",
      "metadata": {
        "id": "d2FpEKNvVllh",
        "colab_type": "code",
        "colab": {
          "base_uri": "https://localhost:8080/",
          "height": 238
        },
        "outputId": "0cd205c8-2387-4fd7-d6c9-bca63a1256bc"
      },
      "source": [
        "k.dtypes"
      ],
      "execution_count": null,
      "outputs": [
        {
          "output_type": "execute_result",
          "data": {
            "text/plain": [
              "Transaction_date     object\n",
              "Product              object\n",
              "Price               float64\n",
              "Payment_Type         object\n",
              "Name                 object\n",
              "City                 object\n",
              "State                object\n",
              "Country              object\n",
              "Account_Created      object\n",
              "Last_Login           object\n",
              "Latitude            float64\n",
              "Longitude           float64\n",
              "dtype: object"
            ]
          },
          "metadata": {
            "tags": []
          },
          "execution_count": 13
        }
      ]
    },
    {
      "cell_type": "code",
      "metadata": {
        "id": "eXWoUMkQYl94",
        "colab_type": "code",
        "colab": {
          "base_uri": "https://localhost:8080/",
          "height": 34
        },
        "outputId": "2ab57ea8-62fe-4056-a04b-8962c87324c4"
      },
      "source": [
        "k.Price.max()"
      ],
      "execution_count": null,
      "outputs": [
        {
          "output_type": "execute_result",
          "data": {
            "text/plain": [
              "7500.0"
            ]
          },
          "metadata": {
            "tags": []
          },
          "execution_count": 15
        }
      ]
    },
    {
      "cell_type": "code",
      "metadata": {
        "id": "6O6-9xNLwDvD",
        "colab_type": "code",
        "colab": {
          "base_uri": "https://localhost:8080/",
          "height": 408
        },
        "outputId": "3833966b-7a2a-4b2c-a088-c3951c64e9cb"
      },
      "source": [
        "k.Price, k.City"
      ],
      "execution_count": null,
      "outputs": [
        {
          "output_type": "execute_result",
          "data": {
            "text/plain": [
              "(0      1200.0\n",
              " 1      1200.0\n",
              " 2      1200.0\n",
              " 3      1200.0\n",
              " 4      3600.0\n",
              "         ...  \n",
              " 993    1200.0\n",
              " 994    3600.0\n",
              " 995    7500.0\n",
              " 996    1200.0\n",
              " 997    1200.0\n",
              " Name: Price, Length: 998, dtype: float64, 0                          Basildon\n",
              " 1      Parkville                   \n",
              " 2      Astoria                     \n",
              " 3                            Echuca\n",
              " 4      Cahaba Heights              \n",
              "                    ...             \n",
              " 993                         Belfast\n",
              " 994                     Black River\n",
              " 995    Skaneateles                 \n",
              " 996                       Haverhill\n",
              " 997    Madison                     \n",
              " Name: City, Length: 998, dtype: object)"
            ]
          },
          "metadata": {
            "tags": []
          },
          "execution_count": 124
        }
      ]
    },
    {
      "cell_type": "code",
      "metadata": {
        "id": "mquN8Nlezms7",
        "colab_type": "code",
        "colab": {
          "base_uri": "https://localhost:8080/",
          "height": 221
        },
        "outputId": "f67e8db6-c3f9-4120-9244-b337547c8921"
      },
      "source": [
        "k[\"Price\"]"
      ],
      "execution_count": null,
      "outputs": [
        {
          "output_type": "execute_result",
          "data": {
            "text/plain": [
              "0      1200\n",
              "1      1200\n",
              "2      1200\n",
              "3      1200\n",
              "4      3600\n",
              "       ... \n",
              "993    1200\n",
              "994    3600\n",
              "995    7500\n",
              "996    1200\n",
              "997    1200\n",
              "Name: Price, Length: 998, dtype: object"
            ]
          },
          "metadata": {
            "tags": []
          },
          "execution_count": 70
        }
      ]
    },
    {
      "cell_type": "code",
      "metadata": {
        "id": "TTq6px2Q0NVs",
        "colab_type": "code",
        "colab": {
          "base_uri": "https://localhost:8080/",
          "height": 297
        },
        "outputId": "17163a61-5bf1-46ac-c6f9-a8c21d589c2d"
      },
      "source": [
        "k.describe()"
      ],
      "execution_count": null,
      "outputs": [
        {
          "output_type": "execute_result",
          "data": {
            "text/html": [
              "<div>\n",
              "<style scoped>\n",
              "    .dataframe tbody tr th:only-of-type {\n",
              "        vertical-align: middle;\n",
              "    }\n",
              "\n",
              "    .dataframe tbody tr th {\n",
              "        vertical-align: top;\n",
              "    }\n",
              "\n",
              "    .dataframe thead th {\n",
              "        text-align: right;\n",
              "    }\n",
              "</style>\n",
              "<table border=\"1\" class=\"dataframe\">\n",
              "  <thead>\n",
              "    <tr style=\"text-align: right;\">\n",
              "      <th></th>\n",
              "      <th>Price</th>\n",
              "      <th>Latitude</th>\n",
              "      <th>Longitude</th>\n",
              "    </tr>\n",
              "  </thead>\n",
              "  <tbody>\n",
              "    <tr>\n",
              "      <th>count</th>\n",
              "      <td>997.000000</td>\n",
              "      <td>998.000000</td>\n",
              "      <td>998.000000</td>\n",
              "    </tr>\n",
              "    <tr>\n",
              "      <th>mean</th>\n",
              "      <td>1622.367101</td>\n",
              "      <td>39.015705</td>\n",
              "      <td>-41.337820</td>\n",
              "    </tr>\n",
              "    <tr>\n",
              "      <th>std</th>\n",
              "      <td>1099.053177</td>\n",
              "      <td>19.508572</td>\n",
              "      <td>67.389479</td>\n",
              "    </tr>\n",
              "    <tr>\n",
              "      <th>min</th>\n",
              "      <td>250.000000</td>\n",
              "      <td>-41.465000</td>\n",
              "      <td>-159.485280</td>\n",
              "    </tr>\n",
              "    <tr>\n",
              "      <th>25%</th>\n",
              "      <td>1200.000000</td>\n",
              "      <td>35.816944</td>\n",
              "      <td>-87.991670</td>\n",
              "    </tr>\n",
              "    <tr>\n",
              "      <th>50%</th>\n",
              "      <td>1200.000000</td>\n",
              "      <td>42.320695</td>\n",
              "      <td>-73.730695</td>\n",
              "    </tr>\n",
              "    <tr>\n",
              "      <th>75%</th>\n",
              "      <td>1200.000000</td>\n",
              "      <td>51.050000</td>\n",
              "      <td>4.916667</td>\n",
              "    </tr>\n",
              "    <tr>\n",
              "      <th>max</th>\n",
              "      <td>7500.000000</td>\n",
              "      <td>64.837780</td>\n",
              "      <td>174.766667</td>\n",
              "    </tr>\n",
              "  </tbody>\n",
              "</table>\n",
              "</div>"
            ],
            "text/plain": [
              "             Price    Latitude   Longitude\n",
              "count   997.000000  998.000000  998.000000\n",
              "mean   1622.367101   39.015705  -41.337820\n",
              "std    1099.053177   19.508572   67.389479\n",
              "min     250.000000  -41.465000 -159.485280\n",
              "25%    1200.000000   35.816944  -87.991670\n",
              "50%    1200.000000   42.320695  -73.730695\n",
              "75%    1200.000000   51.050000    4.916667\n",
              "max    7500.000000   64.837780  174.766667"
            ]
          },
          "metadata": {
            "tags": []
          },
          "execution_count": 34
        }
      ]
    },
    {
      "cell_type": "code",
      "metadata": {
        "id": "guSb3PcjCcLs",
        "colab_type": "code",
        "colab": {
          "base_uri": "https://localhost:8080/",
          "height": 34
        },
        "outputId": "460b3b00-5e3c-4f18-8e0b-6d38fc0dc4f1"
      },
      "source": [
        "k[\"Price\"].var()"
      ],
      "execution_count": null,
      "outputs": [
        {
          "output_type": "execute_result",
          "data": {
            "text/plain": [
              "1207917.8851816454"
            ]
          },
          "metadata": {
            "tags": []
          },
          "execution_count": 38
        }
      ]
    },
    {
      "cell_type": "code",
      "metadata": {
        "id": "GMSRf01C0fqR",
        "colab_type": "code",
        "colab": {
          "base_uri": "https://localhost:8080/",
          "height": 85
        },
        "outputId": "1d6fe28c-1b44-42df-e5bf-b8c028e308ce"
      },
      "source": [
        "k.columns"
      ],
      "execution_count": null,
      "outputs": [
        {
          "output_type": "execute_result",
          "data": {
            "text/plain": [
              "Index(['Transaction_date', 'Product', 'Price', 'Payment_Type', 'Name', 'City',\n",
              "       'State', 'Country', 'Account_Created', 'Last_Login', 'Latitude',\n",
              "       'Longitude'],\n",
              "      dtype='object')"
            ]
          },
          "metadata": {
            "tags": []
          },
          "execution_count": 74
        }
      ]
    },
    {
      "cell_type": "code",
      "metadata": {
        "id": "qqIDe61J2yxS",
        "colab_type": "code",
        "colab": {
          "base_uri": "https://localhost:8080/",
          "height": 34
        },
        "outputId": "a4d40ea7-54c5-4eb7-be14-3079e740dca9"
      },
      "source": [
        "k['Price'].values[556:562]"
      ],
      "execution_count": null,
      "outputs": [
        {
          "output_type": "execute_result",
          "data": {
            "text/plain": [
              "array([1200., 1200.,   nan, 1200., 1200., 1200.])"
            ]
          },
          "metadata": {
            "tags": []
          },
          "execution_count": 44
        }
      ]
    },
    {
      "cell_type": "code",
      "metadata": {
        "id": "rMGbDBlo08f-",
        "colab_type": "code",
        "colab": {
          "base_uri": "https://localhost:8080/",
          "height": 221
        },
        "outputId": "33649a4a-fcff-4248-f7dc-c0f316c2bfa1"
      },
      "source": [
        "k[\"City\"].value_counts()"
      ],
      "execution_count": null,
      "outputs": [
        {
          "output_type": "execute_result",
          "data": {
            "text/plain": [
              "London                          19\n",
              "Calgary                         11\n",
              "New York                         9\n",
              "Den Haag                         9\n",
              "Vancouver                        8\n",
              "                                ..\n",
              "Irpin'                           1\n",
              "Clondalkin                       1\n",
              "Farmingtn Hls                    1\n",
              "Munchengosserstadt               1\n",
              "Helens Bay                       1\n",
              "Name: City, Length: 759, dtype: int64"
            ]
          },
          "metadata": {
            "tags": []
          },
          "execution_count": 136
        }
      ]
    },
    {
      "cell_type": "code",
      "metadata": {
        "id": "FQk874x31vBW",
        "colab_type": "code",
        "colab": {
          "base_uri": "https://localhost:8080/",
          "height": 221
        },
        "outputId": "aac37601-ea56-499d-ba67-e861f988ead1"
      },
      "source": [
        "k[\"State\"].value_counts()"
      ],
      "execution_count": null,
      "outputs": [
        {
          "output_type": "execute_result",
          "data": {
            "text/plain": [
              "England         86\n",
              "CA              66\n",
              "NY              41\n",
              "TX              37\n",
              "VA              30\n",
              "                ..\n",
              "Chisinau         1\n",
              "Kilkenny         1\n",
              "Buenos Aires     1\n",
              "AL               1\n",
              "Izmir            1\n",
              "Name: State, Length: 204, dtype: int64"
            ]
          },
          "metadata": {
            "tags": []
          },
          "execution_count": 80
        }
      ]
    },
    {
      "cell_type": "code",
      "metadata": {
        "id": "l3COw9jO2FSo",
        "colab_type": "code",
        "colab": {
          "base_uri": "https://localhost:8080/",
          "height": 102
        },
        "outputId": "727d4873-e6c1-488d-a984-5a07e96d97d1"
      },
      "source": [
        "k[\"Payment_Type\"].value_counts()"
      ],
      "execution_count": null,
      "outputs": [
        {
          "output_type": "execute_result",
          "data": {
            "text/plain": [
              "Visa          522\n",
              "Mastercard    277\n",
              "Amex          110\n",
              "Diners         89\n",
              "Name: Payment_Type, dtype: int64"
            ]
          },
          "metadata": {
            "tags": []
          },
          "execution_count": 82
        }
      ]
    },
    {
      "cell_type": "code",
      "metadata": {
        "id": "s2fHhiD325FL",
        "colab_type": "code",
        "colab": {
          "base_uri": "https://localhost:8080/",
          "height": 187
        },
        "outputId": "4d99845e-b7ca-46a2-9732-dccbc39c6516"
      },
      "source": [
        "k[\"Price\"].value_counts()"
      ],
      "execution_count": null,
      "outputs": [
        {
          "output_type": "execute_result",
          "data": {
            "text/plain": [
              "1200      841\n",
              "3600      136\n",
              "7500       15\n",
              "250         1\n",
              "13,000      1\n",
              "2100        1\n",
              "1800        1\n",
              "800         1\n",
              "1250        1\n",
              "Name: Price, dtype: int64"
            ]
          },
          "metadata": {
            "tags": []
          },
          "execution_count": 8
        }
      ]
    },
    {
      "cell_type": "code",
      "metadata": {
        "id": "nAIcXsXl3qYa",
        "colab_type": "code",
        "colab": {
          "base_uri": "https://localhost:8080/",
          "height": 51
        },
        "outputId": "c13102bf-4dab-4a4d-e1c3-6e7b4dd0d0b2"
      },
      "source": [
        "k[\"Price\"].max(),k[\"City\"].mode()"
      ],
      "execution_count": null,
      "outputs": [
        {
          "output_type": "execute_result",
          "data": {
            "text/plain": [
              "(7500.0, 0    London\n",
              " dtype: object)"
            ]
          },
          "metadata": {
            "tags": []
          },
          "execution_count": 43
        }
      ]
    },
    {
      "cell_type": "code",
      "metadata": {
        "id": "2PobXUNydkpE",
        "colab_type": "code",
        "colab": {
          "base_uri": "https://localhost:8080/",
          "height": 119
        },
        "outputId": "dcadce68-b87f-4d39-e70a-d5bd53722420"
      },
      "source": [
        "k[\"Payment_Type\"].head(5)"
      ],
      "execution_count": null,
      "outputs": [
        {
          "output_type": "execute_result",
          "data": {
            "text/plain": [
              "0    Mastercard\n",
              "1          Visa\n",
              "2    Mastercard\n",
              "3          Visa\n",
              "4          Visa\n",
              "Name: Payment_Type, dtype: object"
            ]
          },
          "metadata": {
            "tags": []
          },
          "execution_count": 47
        }
      ]
    },
    {
      "cell_type": "code",
      "metadata": {
        "id": "qxjJGtbibIqP",
        "colab_type": "code",
        "colab": {
          "base_uri": "https://localhost:8080/",
          "height": 255
        },
        "outputId": "e7f8d689-c652-4de2-d522-a09cbae40072"
      },
      "source": [
        "k.nlargest(10,[\"Price\"]), k[\"City\"].mode(10)"
      ],
      "execution_count": null,
      "outputs": [
        {
          "output_type": "execute_result",
          "data": {
            "text/plain": [
              "(    Transaction_date           Product  ...   Latitude   Longitude\n",
              " 150    1/18/09 13:26   Platinum Laptop  ...  53.652778   -6.681389\n",
              " 189     1/20/09 5:24  Platinum Laptop   ...  32.525000  -93.750000\n",
              " 206     1/16/09 2:41   Platinum Laptop  ...  40.660000 -111.995560\n",
              " 244      1/5/09 2:57   Platinum Laptop  ...  48.083333   -1.683333\n",
              " 434    1/14/09 10:32   Platinum Laptop  ... -22.900000  -47.083333\n",
              " 493     1/11/09 4:29   Platinum Laptop  ...  35.960560  -83.920830\n",
              " 505    1/25/09 16:11   Platinum Laptop  ...  36.331940  -94.118330\n",
              " 511     1/25/09 1:53   Platinum Laptop  ... -29.616667   30.383333\n",
              " 544    1/15/09 10:16   Platinum Laptop  ...  34.961670  -89.829440\n",
              " 814     1/12/09 5:50   Platinum Laptop  ...  52.083333    4.300000\n",
              " \n",
              " [10 rows x 12 columns], 0    London\n",
              " dtype: object)"
            ]
          },
          "metadata": {
            "tags": []
          },
          "execution_count": 160
        }
      ]
    },
    {
      "cell_type": "code",
      "metadata": {
        "id": "hI9n-15vgJn6",
        "colab_type": "code",
        "colab": {
          "base_uri": "https://localhost:8080/",
          "height": 85
        },
        "outputId": "e1b956d7-3737-415a-db43-ced53f03b364"
      },
      "source": [
        "k['Price'].value_counts().keys()[0:5],k['City'].value_counts().keys()[0:5]"
      ],
      "execution_count": null,
      "outputs": [
        {
          "output_type": "execute_result",
          "data": {
            "text/plain": [
              "(Float64Index([1200.0, 3600.0, 7500.0, 2100.0, 1800.0], dtype='float64'),\n",
              " Index(['London', 'Calgary', 'New York                    ', 'Den Haag',\n",
              "        'Vancouver'],\n",
              "       dtype='object'))"
            ]
          },
          "metadata": {
            "tags": []
          },
          "execution_count": 173
        }
      ]
    },
    {
      "cell_type": "code",
      "metadata": {
        "id": "VH0Fb8x4_Df0",
        "colab_type": "code",
        "colab": {}
      },
      "source": [
        "import pandas as pd\n",
        "import matplotlib as plt\n",
        "%matplotlib inline\n"
      ],
      "execution_count": null,
      "outputs": []
    },
    {
      "cell_type": "code",
      "metadata": {
        "id": "rNhJTfoD_Wij",
        "colab_type": "code",
        "colab": {
          "base_uri": "https://localhost:8080/",
          "height": 291
        },
        "outputId": "4e24a11f-b09e-4ef4-a1c3-c4efdf3f7c6f"
      },
      "source": [
        "k.plot.bar()\n"
      ],
      "execution_count": null,
      "outputs": [
        {
          "output_type": "execute_result",
          "data": {
            "text/plain": [
              "<matplotlib.axes._subplots.AxesSubplot at 0x7feb3725ecc0>"
            ]
          },
          "metadata": {
            "tags": []
          },
          "execution_count": 90
        },
        {
          "output_type": "display_data",
          "data": {
            "image/png": "[encoded data removed]",
            "text/plain": [
              "<Figure size 432x288 with 1 Axes>"
            ]
          },
          "metadata": {
            "tags": []
          }
        }
      ]
    },
    {
      "cell_type": "code",
      "metadata": {
        "id": "3jrnWIkuAF0Z",
        "colab_type": "code",
        "colab": {
          "base_uri": "https://localhost:8080/",
          "height": 282
        },
        "outputId": "cb3e1ab1-25b0-469b-bfb7-80f780c6044d"
      },
      "source": [
        "k.plot.hist()\n"
      ],
      "execution_count": null,
      "outputs": [
        {
          "output_type": "execute_result",
          "data": {
            "text/plain": [
              "<matplotlib.axes._subplots.AxesSubplot at 0x7feb37149ef0>"
            ]
          },
          "metadata": {
            "tags": []
          },
          "execution_count": 93
        },
        {
          "output_type": "display_data",
          "data": {
            "image/png": "[encoded data removed]",
            "text/plain": [
              "<Figure size 432x288 with 1 Axes>"
            ]
          },
          "metadata": {
            "tags": []
          }
        }
      ]
    },
    {
      "cell_type": "code",
      "metadata": {
        "id": "hlyL3lRnA2NC",
        "colab_type": "code",
        "colab": {
          "base_uri": "https://localhost:8080/",
          "height": 282
        },
        "outputId": "d8002c41-aaa6-4dec-e670-4ba101a8a98e"
      },
      "source": [
        "k.plot.hist(100,100)"
      ],
      "execution_count": null,
      "outputs": [
        {
          "output_type": "execute_result",
          "data": {
            "text/plain": [
              "<matplotlib.axes._subplots.AxesSubplot at 0x7feb374747f0>"
            ]
          },
          "metadata": {
            "tags": []
          },
          "execution_count": 94
        },
        {
          "output_type": "display_data",
          "data": {
            "image/png": "[encoded data removed]",
            "text/plain": [
              "<Figure size 432x288 with 1 Axes>"
            ]
          },
          "metadata": {
            "tags": []
          }
        }
      ]
    },
    {
      "cell_type": "code",
      "metadata": {
        "id": "MWkhaamyEH2u",
        "colab_type": "code",
        "colab": {}
      },
      "source": [
        "import matplotlib.pyplot as plt\n"
      ],
      "execution_count": null,
      "outputs": []
    },
    {
      "cell_type": "code",
      "metadata": {
        "id": "YQ51AVwADtqj",
        "colab_type": "code",
        "colab": {
          "base_uri": "https://localhost:8080/",
          "height": 554
        },
        "outputId": "d1bab0cc-92d1-45d9-990e-999c2586f24c"
      },
      "source": [
        "plt.figure(figsize=(10,9))\n",
        "plt.bar(data=k,x=\"Product\",height=\"Price\")\n"
      ],
      "execution_count": null,
      "outputs": [
        {
          "output_type": "execute_result",
          "data": {
            "text/plain": [
              "<BarContainer object of 998 artists>"
            ]
          },
          "metadata": {
            "tags": []
          },
          "execution_count": 108
        },
        {
          "output_type": "display_data",
          "data": {
            "image/png": "[encoded data removed]",
            "text/plain": [
              "<Figure size 720x648 with 1 Axes>"
            ]
          },
          "metadata": {
            "tags": []
          }
        }
      ]
    },
    {
      "cell_type": "code",
      "metadata": {
        "id": "gs1jMPuoHUcm",
        "colab_type": "code",
        "colab": {
          "base_uri": "https://localhost:8080/",
          "height": 609
        },
        "outputId": "caf91c7c-4117-42c7-bf9e-20a8abad9265"
      },
      "source": [
        "plt.figure(figsize=(19,10))\n",
        "plt.bar(data=k,x=\"Price\",height=\"Country\")"
      ],
      "execution_count": null,
      "outputs": [
        {
          "output_type": "execute_result",
          "data": {
            "text/plain": [
              "<BarContainer object of 998 artists>"
            ]
          },
          "metadata": {
            "tags": []
          },
          "execution_count": 115
        },
        {
          "output_type": "display_data",
          "data": {
            "image/png": "[encoded data removed]",
            "text/plain": [
              "<Figure size 1368x720 with 1 Axes>"
            ]
          },
          "metadata": {
            "tags": []
          }
        }
      ]
    },
    {
      "cell_type": "code",
      "metadata": {
        "id": "7ov6jhZGG9HJ",
        "colab_type": "code",
        "colab": {
          "base_uri": "https://localhost:8080/",
          "height": 555
        },
        "outputId": "fa76d918-45f6-4ed9-a5fc-2cb1f758f2f7"
      },
      "source": [
        "plt.figure(figsize=(10,9))\n",
        "plt.bar(data=k,x=\"[Price].value_counts()\", height =\"[Price].value_counts().keys()[0:5]\")\n"
      ],
      "execution_count": null,
      "outputs": [
        {
          "output_type": "execute_result",
          "data": {
            "text/plain": [
              "<BarContainer object of 1 artists>"
            ]
          },
          "metadata": {
            "tags": []
          },
          "execution_count": 64
        },
        {
          "output_type": "display_data",
          "data": {
            "image/png": "[encoded data removed]",
            "text/plain": [
              "<Figure size 720x648 with 1 Axes>"
            ]
          },
          "metadata": {
            "tags": []
          }
        }
      ]
    }
  ]
}